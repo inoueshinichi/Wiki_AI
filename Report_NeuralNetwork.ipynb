{
 "cells": [
  {
   "cell_type": "markdown",
   "metadata": {},
   "source": [
    "# このReportの内容  \n",
    "1. コスト関数\n",
    "2. Activation/変換関数とLayerクラス\n",
    "3. 数値微分/AutoBackpropagation\n",
    "4. Batch Normalization/Weight Decay/Dropout\n",
    "5. 各最適化手法(勾配降下法)\n",
    "6. img2col, col2img, CNN"
   ]
  },
  {
   "cell_type": "code",
   "execution_count": 1,
   "metadata": {},
   "outputs": [],
   "source": [
    "import numpy as np\n",
    "import scipy as sp"
   ]
  },
  {
   "cell_type": "markdown",
   "metadata": {},
   "source": [
    "# コスト関数"
   ]
  },
  {
   "cell_type": "markdown",
   "metadata": {},
   "source": [
    "### MSE（平均二乗誤差）"
   ]
  },
  {
   "cell_type": "markdown",
   "metadata": {},
   "source": [
    "$$\n",
    "    E(\\boldsymbol{w})=\\frac{1}{n}\\sum_{i=1}^{n}\\sum_{k=1}^{d}(y_{ik} - \\hat{y}_{ik})^2\n",
    "$$"
   ]
  },
  {
   "cell_type": "code",
   "execution_count": 19,
   "metadata": {},
   "outputs": [],
   "source": [
    "def mean_square_error(y, t):\n",
    "    '''\n",
    "    yはone-hot-vector \n",
    "    :param y: network output one-hot-vector: (バッチ数 x クラス数) or (1xクラス数) or 1次元配列\n",
    "    :param t: target one-hot-vector:（バッチ数 x クラス数） または label-vector:（1 x バッチ数) or 1次元配列\n",
    "    :return: 誤差値（スカラー）\n",
    "    '''\n",
    "\n",
    "    # 処理データが1個の場合\n",
    "    if y.ndim == 1:\n",
    "        #  (N,) -> (1,N)\n",
    "        t = t.reshape(1, t.size)  \n",
    "        y = y.reshape(1, y.size)\n",
    "\n",
    "    # バッチサイズ    \n",
    "    batch_size = y.shape[0]\n",
    "    \n",
    "    if t.size == y.size:\n",
    "        # ターゲットtがone-hot-vector表現の場合,label-vector表現に変換\n",
    "        t = t.argmax(axis=1)\n",
    "    \n",
    "    mse = -1*np.sum(np.log(y[np.arange(batch_size), t])) / batch_size\n",
    "\n",
    "    return mse"
   ]
  },
  {
   "cell_type": "markdown",
   "metadata": {},
   "source": [
    "### CEE（交差エントロピー誤差）"
   ]
  },
  {
   "cell_type": "markdown",
   "metadata": {},
   "source": [
    "$$\n",
    "        E(\\boldsymbol{W})=-\\frac{1}{n}\\sum_{i=1}^{n}\\sum_{k=1}^{d}y_{ik}\\log{\\hat{y}_{ik}} \\quad(0 \\leq y_ik \\leq 1)\n",
    "$$\n",
    "$\\log(x)$関数の定義域xの区間[0,1]が$\\log(x)$の定義空間では[-$\\infty$, 0]になることを利用している  \n",
    "x=1.0のとき、log(x)=0.0となる\n"
   ]
  },
  {
   "cell_type": "code",
   "execution_count": 20,
   "metadata": {},
   "outputs": [],
   "source": [
    "def cross_entropy_error(y, t):\n",
    "    '''\n",
    "    yはone-hot-vector \n",
    "    :param y: network output one-hot-vector: (バッチ数 x クラス数) or (1xクラス数) or 1次元配列\n",
    "    :param t: target one-hot-vector:（バッチ数 x クラス数） または label-vector:（1 x バッチ数) or 1次元配列\n",
    "    :return: 誤差値（スカラー）\n",
    "    '''\n",
    "    # 処理データが1個の場合\n",
    "    if y.ndim == 1:\n",
    "        # (N,) -> (1,N)\n",
    "        t = t.reshape(1, t.size)\n",
    "        y = y.reshape(1, y.size)\n",
    "\n",
    "    # バッチサイズ    \n",
    "    batch_size = y.shape[0]\n",
    "\n",
    "    if t.size == y.size:\n",
    "        # ターゲットtがone-hot-vector表現の場合,label-vector表現に変換\n",
    "        t = t.argmax(axis=1)\n",
    "    \n",
    "    cross_entropy_err = -1*np.sum(np.log(y[np.arange(batch_size), t])) / batch_size\n",
    "\n",
    "    return cross_entropy_err"
   ]
  },
  {
   "cell_type": "markdown",
   "metadata": {},
   "source": [
    "# 活性化関数"
   ]
  },
  {
   "cell_type": "markdown",
   "metadata": {},
   "source": [
    "### ステップ関数"
   ]
  },
  {
   "cell_type": "markdown",
   "metadata": {},
   "source": [
    "$$\n",
    "    f(x)=\n",
    "    \\begin{cases}\n",
    "        -1 \\quad (x < 0) \\\\\n",
    "        1  \\quad (x \\geq 0)\n",
    "     \\end{cases}\n",
    "$$"
   ]
  },
  {
   "cell_type": "code",
   "execution_count": 22,
   "metadata": {},
   "outputs": [],
   "source": [
    "def step_function(x):\n",
    "    x = x > 0  # ブール型配列\n",
    "    return np.array([x])\n",
    "\n",
    "class Step:\n",
    "    def __init__(self):\n",
    "        self.mask = None # Layer単位で記憶\n",
    "\n",
    "    def foward(self, x):\n",
    "        self.mask = (x <= 0)\n",
    "        out = x.copy()\n",
    "        out[self.mask] = 0\n",
    "        out[~self.mask] = 1\n",
    "\n",
    "    def backward(self, dout):\n",
    "        # バックプロパゲーション用誤差伝達関数\n",
    "        dx = 0.0 \n",
    "        return dx"
   ]
  },
  {
   "cell_type": "markdown",
   "metadata": {},
   "source": [
    "### シグモイド関数"
   ]
  },
  {
   "cell_type": "markdown",
   "metadata": {},
   "source": [
    "$$\n",
    "    Sigmoid(\\boldsymbol{x}) = \\frac{1}{1 + e^{-\\boldsymbol{x}}}\n",
    "$$\n",
    "[-$\\infty$, +$\\infty$]から[0,1]に定義空間を変換させる関数  \n",
    "逆関数はlogit関数\n",
    "\n",
    "シグモイド関数の微分は再帰型となる\n",
    "$$\n",
    "    \\dot{S}(\\boldsymbol{x}) = S(\\boldsymbol{x})(1 - S(\\boldsymbol{x}))\n",
    "$$\n"
   ]
  },
  {
   "cell_type": "code",
   "execution_count": 23,
   "metadata": {},
   "outputs": [],
   "source": [
    "def sigmoid(x):\n",
    "    return 1 / (1.0 + np.exp(-x))\n",
    "\n",
    "class Sigmoid:\n",
    "    def __init__(self):\n",
    "        self.out = None # Layer単位で記憶\n",
    "    \n",
    "    def forward(self, z):\n",
    "        out = 1 / (1 + np.exp(-z))\n",
    "        self.out = out\n",
    "        return out\n",
    "    \n",
    "    def backward(self, dout):\n",
    "        # バックプロパゲーション用誤差伝達関数\n",
    "        dx = dout*(1.0 - self.out)*self.out \n",
    "        return dx    "
   ]
  },
  {
   "cell_type": "markdown",
   "metadata": {},
   "source": [
    "### LeRu関数"
   ]
  },
  {
   "cell_type": "markdown",
   "metadata": {},
   "source": [
    "$$\n",
    "\\begin{align}\n",
    "    f(\\boldsymbol{x}) &=\n",
    "    \\begin{cases}\n",
    "        x \\quad(x \\geq 0)\\\\\n",
    "        0 \\quad(x < 0)\n",
    "    \\end{cases} \\\\\n",
    "    &= max(0, x)\n",
    "\\end{align}\n",
    "$$"
   ]
  },
  {
   "cell_type": "code",
   "execution_count": 24,
   "metadata": {},
   "outputs": [],
   "source": [
    "def relu(x):\n",
    "    return np.max(0, x)\n",
    "\n",
    "class ReLu:\n",
    "    def __init__(self):\n",
    "        self.mask = None # Layer単位で記憶\n",
    "        \n",
    "    def forward(self, z):\n",
    "        self.mask = (z <= 0)\n",
    "        out = z.copy()\n",
    "        out[self.mask] = 0\n",
    "        return out\n",
    "    \n",
    "    def backward(self, dout):\n",
    "        # バックプロパゲーション用誤差伝達関数\n",
    "        dout[self.mask] = 0 # forward処理でマスクがかかったニューロンはbackward時に誤差伝搬させない\n",
    "        return dout"
   ]
  },
  {
   "cell_type": "markdown",
   "metadata": {},
   "source": [
    "### Tanh関数"
   ]
  },
  {
   "cell_type": "markdown",
   "metadata": {},
   "source": [
    "$$\n",
    "    tanh(\\boldsymbol{x}) = \\frac{e^{\\boldsymbol{x}} - e^{-\\boldsymbol{x}}}{e^\\boldsymbol{x} + e^{-\\boldsymbol{x}}} \\quad [-1, +1] \n",
    "$$  \n",
    "    "
   ]
  },
  {
   "cell_type": "code",
   "execution_count": 25,
   "metadata": {},
   "outputs": [],
   "source": [
    "def tanh(x):\n",
    "    return np.tanh(x)\n",
    "\n",
    "class Tanh:\n",
    "    def __init__(self):\n",
    "        self.out = None # Layer単位で記憶\n",
    "\n",
    "    def forward(self, x):\n",
    "        out = np.tanh(x)\n",
    "        self.out = out\n",
    "        return out\n",
    "\n",
    "    def backward(self, dout):\n",
    "        # バックプロパゲーション用誤差伝達関数\n",
    "        dx = dout*(1 - self.out**2)\n",
    "        return dx"
   ]
  },
  {
   "cell_type": "markdown",
   "metadata": {},
   "source": [
    "### Softmax関数（多クラスSigmoid）"
   ]
  },
  {
   "cell_type": "markdown",
   "metadata": {},
   "source": [
    "$$\n",
    "\\begin{align}\n",
    "    Softmax(\\boldsymbol{x}) &= \\frac{exp(\\boldsymbol{x})}{\\sum_{k=1}^{n}exp(x_i)} \\\\\n",
    "    &= \\frac{Cexp(\\boldsymbol{x})}{C\\sum_{k=1}^{n}exp(x_i)} \\\\\n",
    "    &= \\frac{exp(\\boldsymbol{x}+\\log{\\boldsymbol{C}})}{\\sum_{k=1}^{n}exp(x_i+\\log{C})} \\\\\n",
    "    &= \\frac{exp(\\boldsymbol{x}+\\boldsymbol{C}')}{\\sum_{k=1}^{n}exp(x_i+C')}\n",
    "\\end{align}\n",
    "$$\n",
    "Cは入力信号の中で最大値(Max exp(x))を使用する"
   ]
  },
  {
   "cell_type": "code",
   "execution_count": 26,
   "metadata": {},
   "outputs": [],
   "source": [
    "def softmax(x):\n",
    "    if x.ndim == 2:\n",
    "        x = x.T\n",
    "        x = x - np.max(x, axis=0) # オーバーフロー対策\n",
    "        y = np.exp(x) / np.sum(np.exp(x), axis=0)\n",
    "        return y.T\n",
    "    \n",
    "    x = x - np.max(x) # オーバーフロー対策\n",
    "    y = np.exp(x) / np.sum(np.exp(x))\n",
    "    return y\n",
    "\n",
    "class SoftmaxWithLoss:\n",
    "    def __init__(self, funcName='CEE'):\n",
    "        self.funcName = funcName\n",
    "        self.loss = None\n",
    "        self.y = None  # softmaxの出力\n",
    "        self.t = None  # 教師データ\n",
    "        self.x = None  # 入力データ\n",
    "        self.batch_size = None\n",
    "\n",
    "    def forward(self, x, t):\n",
    "        self.x = x\n",
    "        self.t = t\n",
    "        self.y = softmax(x)\n",
    "        self.batch_size = x.shape[0]\n",
    "    \n",
    "        if self.funcName.lower() == 'cee':\n",
    "            loss = cross_entropy_error(self.y, self.t)\n",
    "        else:\n",
    "            loss = mean_square_error(self.y, self.t)\n",
    "\n",
    "        return loss\n",
    "    \n",
    "    def backward(self, dout=1):\n",
    "        self.batch_size = self.t.shape[0] \n",
    "        \n",
    "        if self.funcName.lower() == 'cee':\n",
    "            # 教師データtがone-hot-vector表現の場合\n",
    "            if self.t.size == self.y.size:\n",
    "                dx = (self.y - self.t) / self.batch_size\n",
    "            else:\n",
    "                dx = self.y.copy()\n",
    "                dx[np.arange(self.batch_size), self.t] -= 1\n",
    "                dx = dx / self.batch_size\n",
    "            return dx\n",
    "        else:\n",
    "            # mse\n",
    "            # 教師データtが「ラベル表現」の場合\n",
    "            if self.t.size != self.y.size:\n",
    "                t_one_hot = np.zeros_like(self.y)\n",
    "                for index in range(self.batch_size):\n",
    "                    t_one_hot[index, self.t[index]] = 1\n",
    "                    self.t = t_one_hot  # tを「one-hot-vector表現」に変換\n",
    "\n",
    "            dx = -1*self.y**2*(self.y - self.t)*np.sum(self.y*(self.y - self.t), axis=1) / np.exp(self.x)\n",
    "            return dx"
   ]
  },
  {
   "cell_type": "markdown",
   "metadata": {},
   "source": [
    "### 乗算レイヤ（✕）"
   ]
  },
  {
   "cell_type": "code",
   "execution_count": 27,
   "metadata": {},
   "outputs": [],
   "source": [
    "class MulLayer:\n",
    "    def __init__(self):\n",
    "        self.x = None\n",
    "        self.y = None\n",
    "        \n",
    "    def forward(self, x, y):\n",
    "        self.x = x\n",
    "        self.y = y\n",
    "        out = x*y\n",
    "        return out\n",
    "    \n",
    "    def backward(self, dout):\n",
    "        dx = self.y*dout\n",
    "        dy = self.x*dout\n",
    "        \n",
    "        return dx, dy"
   ]
  },
  {
   "cell_type": "markdown",
   "metadata": {},
   "source": [
    "### 加算レイヤ（＋）"
   ]
  },
  {
   "cell_type": "code",
   "execution_count": 28,
   "metadata": {},
   "outputs": [],
   "source": [
    "class AddLayer:\n",
    "    def __init__(self):\n",
    "        pass\n",
    "    \n",
    "    def forward(self, x, y):\n",
    "        out = x + y\n",
    "        return out\n",
    "    \n",
    "    def backward(self, dout):\n",
    "        dx = dout*1\n",
    "        dy = dout*1\n",
    "        return dx, dy"
   ]
  },
  {
   "cell_type": "markdown",
   "metadata": {},
   "source": [
    "### 除算レイヤ（／）"
   ]
  },
  {
   "cell_type": "code",
   "execution_count": 29,
   "metadata": {},
   "outputs": [],
   "source": [
    "class DivideLayer:\n",
    "    def __init__(self):\n",
    "        self.out = None\n",
    "        \n",
    "    def forward(self, x):\n",
    "        self.out = 1 / x\n",
    "        return self.out\n",
    "    \n",
    "    def backward(self, dout):\n",
    "        dx = -self.out**2*dout\n",
    "        return dx"
   ]
  },
  {
   "cell_type": "markdown",
   "metadata": {},
   "source": [
    "### 指数関数レイヤ（exp）"
   ]
  },
  {
   "cell_type": "code",
   "execution_count": 30,
   "metadata": {},
   "outputs": [],
   "source": [
    "class ExpLayer:\n",
    "    def __init__(self):\n",
    "        self.out = None\n",
    "        \n",
    "    def forward(self, x):\n",
    "        self.out = np.exp(x)\n",
    "        return self.out\n",
    "    \n",
    "    def backward(sekf, dout):\n",
    "        dx = dout*self.out\n",
    "        return dx"
   ]
  },
  {
   "cell_type": "markdown",
   "metadata": {},
   "source": [
    "# Affine関数（wx+b）"
   ]
  },
  {
   "cell_type": "markdown",
   "metadata": {},
   "source": [
    "バッチ版Affineレイヤの計算グラフ\n",
    "<img src=\"./深層学習_data/NeuralNetwork/スライド1.png\">"
   ]
  },
  {
   "cell_type": "code",
   "execution_count": 31,
   "metadata": {},
   "outputs": [],
   "source": [
    "def affine(x, w, b):\n",
    "    return np.dot(x, w) + b\n",
    "\n",
    "class Affine:\n",
    "    def __init__(self, W, b):\n",
    "        self.W = W\n",
    "        self.b = b\n",
    "\n",
    "        self.x = None\n",
    "        self.original_x_shape = None\n",
    "\n",
    "        # 重み・バイアスの微分\n",
    "        self.dW = None\n",
    "        self.db = None\n",
    "\n",
    "    def forward(self, x):\n",
    "        # テンソル対応 (N,) -> (N,1)\n",
    "        # np.array([1,2,3,4,5]) -> np.array([[1],[2],[3],[4],[5]])\n",
    "        self.original_x_shape = x.shape\n",
    "        x = x.reshape(x.shape[0], -1)\n",
    "        self.x = x\n",
    "\n",
    "        out = np.dot(self.x, self.W) + self.b\n",
    "        return out\n",
    "    \n",
    "    def backward(self, dout):\n",
    "        dx = np.dot(dout, self.W.T) # (N,L) (D,L)^T -> (N,D)\n",
    "        self.dW = np.dot(self.x.T, dout) # (N,D)^T  (N,L) -> (D,L)\n",
    "        self.db = np.sum(dout, axis=0) # (N,L) -> (L,)\n",
    "        dx = dx.reshape(*self.original_x_shape) # 入力データの形状に戻す（テンソル対応）\n",
    "        return dx"
   ]
  },
  {
   "cell_type": "markdown",
   "metadata": {},
   "source": [
    "Dropout"
   ]
  },
  {
   "cell_type": "code",
   "execution_count": 105,
   "metadata": {},
   "outputs": [],
   "source": [
    "class Dropout:\n",
    "    def __init__(self, dropout_ratio=0.5, random_seed=None):\n",
    "        self.dropout_ratio = dropout_ratio\n",
    "        self.random_seed = random_seed\n",
    "        self.randomstate = np.random.RandomState(self.random_seed)\n",
    "        self.mask = None\n",
    "        \n",
    "    def forward(self, X, isTrain=False):\n",
    "        if isTrain:\n",
    "            self.mask = self.randomstate.rand(*X.shape) > self.dropout_ratio\n",
    "            return X*self.mask\n",
    "        else:\n",
    "            return X*(1.0 - self.dropout_ratio)\n",
    "    \n",
    "    def backward(self, dout):\n",
    "        return dout*self.mask"
   ]
  },
  {
   "cell_type": "markdown",
   "metadata": {},
   "source": [
    "### 数値微分"
   ]
  },
  {
   "cell_type": "code",
   "execution_count": 32,
   "metadata": {},
   "outputs": [],
   "source": [
    "def numerical_gradient(f, x):\n",
    "    h = 1e-4 # 微小値 0.0001(10^-4)\n",
    "    xshape = None\n",
    "    \n",
    "    # (N,M) -> 1次元配列(NM,)に一時的に変換\n",
    "    if (x.ndim != 1):\n",
    "        xshape = x.shape\n",
    "        x = x.reshape(1, -1)\n",
    "        x = x[0]\n",
    "\n",
    "    grad = np.zeros_like(x) # xと同じ形状\n",
    "    \n",
    "    # 関数fに対して偏微分を行い，多次元配列を生成\n",
    "    for i in range(x.size):\n",
    "        \n",
    "        # 微小値hの追加前の変数x\n",
    "        tmp_x = x[i]\n",
    "        \n",
    "        # f(x+h)の計算\n",
    "        x[i] = tmp_x + h # 微分する変数だけ，微小値を加算\n",
    "        fxh1 = f(x)\n",
    "        #print(\"fxh1\", fxh1)\n",
    "        \n",
    "        # f(x-h)の計算\n",
    "        x[i] = tmp_x - h # 微分する変数だけ，微小値を減算\n",
    "        fxh2 = f(x)\n",
    "        #print(\"fxh2\", fxh2)\n",
    "        \n",
    "        grad[i] = (fxh1 - fxh2) / (2*h)\n",
    "        #print(\"grad\", grad)\n",
    "        \n",
    "        x[i] = tmp_x # 値を元に戻す\n",
    "        \n",
    "    grad = grad.reshape(xshape)\n",
    "        \n",
    "    return grad"
   ]
  },
  {
   "cell_type": "markdown",
   "metadata": {},
   "source": [
    "## バッチ入力に対応済みの誤差逆伝搬法によるNN(2layer)の学習"
   ]
  },
  {
   "cell_type": "code",
   "execution_count": 33,
   "metadata": {},
   "outputs": [],
   "source": [
    "# 誤差逆伝播法を実装したTwoLayerNetクラスの実装\n",
    "from collections import OrderedDict\n",
    "\n",
    "class TwoLayerNet:\n",
    "    def __init__(self, input_size, hidden_size, output_size, weight_init_std=0.01):\n",
    "        # 重みの初期化\n",
    "        self.params = {}\n",
    "        self.params['W1'] = weight_init_std*np.random.randn(input_size, hidden_size)\n",
    "        self.params['b1'] = np.zeros(hidden_size)\n",
    "        self.params['W2'] = weight_init_std*np.random.randn(hidden_size, output_size)\n",
    "        self.params['b2'] = np.zeros(output_size)\n",
    "        \n",
    "        # レイヤの生成\n",
    "        self.layers = OrderedDict()\n",
    "        self.layers['Affine1'] = Affine(self.params['W1'], self.params['b1'])\n",
    "        self.layers['ReLu'] = ReLu()\n",
    "        self.layers['Affine2'] = Affine(self.params['W2'], self.params['b2'])\n",
    "        self.lastLayer = SoftmaxWithLoss()\n",
    "        \n",
    "    def predict(self, x):\n",
    "        for layer in self.layers.values():\n",
    "            x = layer.forward(x)\n",
    "        return x\n",
    "    \n",
    "    def loss(self, x, t):\n",
    "        y = self.predict(x)\n",
    "        return self.lastLayer.forward(y, t)\n",
    "    \n",
    "    def accuracy(self, x, t):\n",
    "        y = self.predict(x)\n",
    "        y = np.argmax(y, axis=1)\n",
    "        \n",
    "        if t.ndim !=1 :\n",
    "            t = np.argmax(t, axis=1) # one-hot-vectorからlabel-vectorに変換   \n",
    "        accuracy = np.sum(y == t) / float(x.shape[0])\n",
    "        return accuracy\n",
    "    \n",
    "    def numerical_gradient(self, x, t):\n",
    "        loss_W = lambda W: self.loss(x, t)\n",
    "        \n",
    "        grads = {}\n",
    "        grads['W1'] = numerical_gradient(loss_W, self.params['W1'])\n",
    "        grads['b1'] = numerical_gradient(loss_W, self.params['b1'])\n",
    "        grads['W2'] = numerical_gradient(loss_W, self.params['W2'])\n",
    "        grads['b2'] = numerical_gradient(loss_W, self.params['b2'])\n",
    "        return grads\n",
    "    \n",
    "    def gradient(self, x, t):\n",
    "        # 勾配を求めるために、誤差逆伝播法を実装\n",
    "        \n",
    "        # forward -> 各レイヤーにパラメータ類を保存させて、出力を得る\n",
    "        self.loss(x, t)\n",
    "        \n",
    "        # backward -> 逆誤差伝播法で各レイヤのパラメータの勾配を保存\n",
    "        dout = 1\n",
    "        dout = self.lastLayer.backward(dout) # SoftmaxWithLoss\n",
    "        layers = list(self.layers.values())\n",
    "        layers.reverse()\n",
    "        for layer in layers:\n",
    "            dout = layer.backward(dout)\n",
    "        \n",
    "        # 勾配を取得\n",
    "        grads = {}\n",
    "        grads['W1'] = self.layers['Affine1'].dW\n",
    "        grads['b1'] = self.layers['Affine1'].db\n",
    "        grads['W2'] = self.layers['Affine2'].dW\n",
    "        grads['b2'] = self.layers['Affine2'].db\n",
    "        \n",
    "        return grads"
   ]
  },
  {
   "cell_type": "markdown",
   "metadata": {},
   "source": [
    "### 勾配確認：　数値微分による勾配と誤差逆伝播法による値を比較"
   ]
  },
  {
   "cell_type": "code",
   "execution_count": 34,
   "metadata": {},
   "outputs": [
    {
     "name": "stdout",
     "output_type": "stream",
     "text": [
      "W1:2.517512913518647e-13\n",
      "b1:9.555822149190373e-13\n",
      "W2:8.292734524518054e-13\n",
      "b2:1.1990408804729568e-10\n"
     ]
    }
   ],
   "source": [
    "import numpy as np\n",
    "from mnist import load_mnist\n",
    "\n",
    "(x_train, t_train), (x_test, t_test) = load_mnist(normalize=True, one_hot_label=True)\n",
    "network = TwoLayerNet(input_size=784, hidden_size=50, output_size=10)\n",
    "\n",
    "x_batch = x_train[:3]\n",
    "t_batch = t_train[:3]\n",
    "\n",
    "grad_numerical = network.numerical_gradient(x_batch, t_batch)\n",
    "grad_backprop = network.gradient(x_batch, t_batch)\n",
    "\n",
    "# 各重みの絶対誤差の平均を求める\n",
    "for key in grad_numerical.keys():\n",
    "    diff = np.average(np.abs(grad_backprop[key] - grad_numerical[key]))\n",
    "    print(key + \":\" + str(diff))"
   ]
  },
  {
   "cell_type": "code",
   "execution_count": 83,
   "metadata": {},
   "outputs": [
    {
     "name": "stdout",
     "output_type": "stream",
     "text": [
      "training-iter 0 train_acc 0.096, test_acc 0.096\n",
      "training-iter 600 train_acc 0.907, test_acc 0.907\n",
      "training-iter 1200 train_acc 0.928, test_acc 0.928\n",
      "training-iter 1800 train_acc 0.934, test_acc 0.934\n",
      "training-iter 2400 train_acc 0.944, test_acc 0.944\n",
      "training-iter 3000 train_acc 0.950, test_acc 0.950\n",
      "training-iter 3600 train_acc 0.953, test_acc 0.953\n",
      "training-iter 4200 train_acc 0.956, test_acc 0.956\n",
      "training-iter 4800 train_acc 0.960, test_acc 0.960\n",
      "training-iter 5400 train_acc 0.962, test_acc 0.962\n",
      "training-iter 6000 train_acc 0.963, test_acc 0.963\n",
      "training-iter 6600 train_acc 0.965, test_acc 0.965\n",
      "training-iter 7200 train_acc 0.966, test_acc 0.966\n",
      "training-iter 7800 train_acc 0.967, test_acc 0.967\n",
      "training-iter 8400 train_acc 0.968, test_acc 0.968\n",
      "training-iter 9000 train_acc 0.969, test_acc 0.969\n",
      "training-iter 9600 train_acc 0.970, test_acc 0.970\n"
     ]
    }
   ],
   "source": [
    "import numpy as np\n",
    "from mnist import load_mnist\n",
    "\n",
    "# データ (MNIST)\n",
    "(x_train, t_train), (x_test, t_test) = load_mnist(normalize=True, one_hot_label=True)\n",
    "\n",
    "# NN\n",
    "network = TwoLayerNet(input_size=784, hidden_size=50, output_size=10)\n",
    "\n",
    "# 学習条件\n",
    "iters_num = 10000\n",
    "train_size = x_train.shape[0]\n",
    "batch_size = 100\n",
    "learning_rate = 0.1\n",
    "\n",
    "# 結果\n",
    "train_loss_list = []\n",
    "train_acc_list = []\n",
    "test_acc_list = []\n",
    "\n",
    "# エポック\n",
    "iter_per_epoch = max(train_size / batch_size, 1)\n",
    "\n",
    "for i in range(iters_num):\n",
    "    # バッチ学習\n",
    "    batch_mask = np.random.choice(train_size, batch_size)\n",
    "    x_batch = x_train[batch_mask]\n",
    "    t_batch = t_train[batch_mask]\n",
    "    \n",
    "    # 誤差逆伝播法によって勾配を求める\n",
    "    grad = network.gradient(x_batch, t_batch)\n",
    "    \n",
    "    # パラメータの更新\n",
    "    for key in ('W1', 'b1', 'W2', 'b2'):\n",
    "        network.params[key] -= learning_rate*grad[key] # 単純なバッチ勾配降下法\n",
    "        \n",
    "    # 誤差\n",
    "    loss = network.loss(x_batch, t_batch)\n",
    "    train_loss_list.append(loss)\n",
    "    \n",
    "    # エポック毎に精度の確認\n",
    "    if i % iter_per_epoch == 0:\n",
    "        train_acc = network.accuracy(x_train, t_train)\n",
    "        test_acc = network.accuracy(x_test, t_test)\n",
    "        train_acc_list.append(train_acc)\n",
    "        test_acc_list.append(test_acc)\n",
    "        print(\"training-iter {0} train_acc {1:.3f}, test_acc {2:.3f}\".format(i, test_acc, test_acc))"
   ]
  },
  {
   "cell_type": "markdown",
   "metadata": {
    "collapsed": true
   },
   "source": [
    "### Activation層の出力を観察"
   ]
  },
  {
   "cell_type": "code",
   "execution_count": 49,
   "metadata": {},
   "outputs": [],
   "source": [
    "import numpy as np\n",
    "import matplotlib.pyplot as plt\n",
    "\n",
    "def sigmoid(x):\n",
    "    return 1 / (1 + np.exp(-x))\n",
    "\n",
    "\n",
    "def ReLU(x):\n",
    "    return np.maximum(0, x)\n",
    "\n",
    "\n",
    "def tanh(x):\n",
    "    return np.tanh(x)\n",
    "\n",
    "input_data = np.random.randn(1000, 100)  # 1000個のデータ\n",
    "node_num = 100  # 各隠れ層のノード（ニューロン）の数\n",
    "hidden_layer_size = 5  # 隠れ層が5層\n",
    "activations = {}  # ここにアクティベーションの結果を格納する\n",
    "\n",
    "x = input_data\n",
    "\n",
    "for i in range(hidden_layer_size):\n",
    "    if i != 0:\n",
    "        x = activations[i-1]\n",
    "\n",
    "    # 初期値の値をいろいろ変えて実験しよう！\n",
    "    # w = np.random.randn(node_num, node_num) * 1\n",
    "    # w = np.random.randn(node_num, node_num) * 0.01\n",
    "    w = np.random.randn(node_num, node_num) * np.sqrt(1.0 / node_num) # xavierの初期値\n",
    "    #w = np.random.randn(node_num, node_num) * np.sqrt(2.0 / node_num) # heの初期値\n",
    "\n",
    "\n",
    "    a = np.dot(x, w)\n",
    "\n",
    "\n",
    "    # 活性化関数の種類も変えて実験しよう！\n",
    "    #z = sigmoid(a)\n",
    "    #z = ReLU(a)\n",
    "    z = tanh(a)\n",
    "\n",
    "    activations[i] = z"
   ]
  },
  {
   "cell_type": "code",
   "execution_count": 50,
   "metadata": {
    "scrolled": true
   },
   "outputs": [
    {
     "data": {
      "image/png": "[encoded data removed]",
      "text/plain": [
       "<Figure size 432x288 with 5 Axes>"
      ]
     },
     "metadata": {
      "needs_background": "light"
     },
     "output_type": "display_data"
    }
   ],
   "source": [
    "# ヒストグラムを描画\n",
    "for i, a in activations.items():\n",
    "    plt.subplot(1, len(activations), i+1)\n",
    "    plt.title(str(i+1) + \"-layer\")\n",
    "    if i != 0: plt.yticks([], [])\n",
    "    # plt.xlim(0.1, 1)\n",
    "    # plt.ylim(0, 7000)\n",
    "    plt.hist(a.flatten(), 30, range=(0,1))\n",
    "plt.show()"
   ]
  },
  {
   "cell_type": "markdown",
   "metadata": {},
   "source": [
    "### Batch Normalization"
   ]
  },
  {
   "cell_type": "markdown",
   "metadata": {},
   "source": [
    "アイディア：アクティベーションの分布(またはアクティベーション関数直前)の分布を強制的にばらつかせる  \n",
    "適切な重みの初期値はアクティベーションがばらつくから"
   ]
  },
  {
   "cell_type": "markdown",
   "metadata": {},
   "source": [
    "利点\n",
    "1. 学習速度を上げることができる(学習係数を大きくできる)\n",
    "2. 性能が初期値に大きく依存しない\n",
    "3. 過学習を抑制できる(Dropout等を減らせる)"
   ]
  },
  {
   "cell_type": "markdown",
   "metadata": {},
   "source": [
    "Affineレイヤ -> BatchNormレイヤ -> Activationレイヤ"
   ]
  },
  {
   "cell_type": "markdown",
   "metadata": {},
   "source": [
    "学習を行う際にミニバッチ単位で正規化を行う\n",
    "$$\n",
    "\\begin{align}\n",
    "    \\boldsymbol{\\mu} &\\leftarrow \\frac{1}{m}\\sum_{i=0}^m\\boldsymbol{x}_i \\\\\n",
    "    \\boldsymbol{\\rho_{j}}^2 &\\leftarrow \\frac{1}{m}\\sum_{k=0}^m(\\boldsymbol{x}_k - \\boldsymbol{\\mu})^2 \\\\\n",
    "    \\hat{\\boldsymbol{x}}_i &\\leftarrow \\frac{\\boldsymbol{x}_i - \\boldsymbol{\\mu}}{\\sqrt{\\rho_j^2 + \\epsilon}}・・・jは特徴量のインデックス\n",
    "\\end{align}\n",
    "$$\n",
    "\n",
    "$\\epsilon$は10e-7程度  \n",
    "\n",
    "正規化したデータに対して固有のスケーリングとシフトを行う。  \n",
    "実際には、学習のforward時に移動平均と移動分散を求めておいて、推論時に移動平均と移動分散を使って特徴量を変換する。  "
   ]
  },
  {
   "cell_type": "markdown",
   "metadata": {},
   "source": [
    "学習時  \n",
    "$$\n",
    "    \\tilde{\\boldsymbol{x}_{i}} \\leftarrow momentum * \\tilde{\\boldsymbol{x}_{i-1}} + (1 - momentum) * \\hat{\\boldsymbol{x}}_{i} \\\\\n",
    "    \\tilde{\\rho_{i,j}}^{2} \\leftarrow momentum * \\tilde{\\rho_{i-1,j}}^{2} + (1 - momentum) * \\rho_{i,j}^{2}\n",
    "$$\n",
    "\n",
    "推論時  \n",
    "$$\n",
    "    \\hat{\\boldsymbol{x}}_i \\leftarrow \\frac{\\boldsymbol{x}_i - \\tilde{\\boldsymbol{x}_{i}}}{\\sqrt{\\tilde{\\rho_{i,j}}^{2} + \\epsilon}}\n",
    "$$"
   ]
  },
  {
   "cell_type": "markdown",
   "metadata": {},
   "source": [
    "スケーリング  \n",
    "$$\n",
    "    y_i \\leftarrow \\gamma\\hat{x}_i+\\beta\n",
    "$$\n",
    "$\\gamma$と$\\beta$はパラメータで初期値$\\gamma=1$, $\\beta=0$からスタートして学習によって最適化される  \n",
    "※畳み込み層にも対応する必要があるよ"
   ]
  },
  {
   "cell_type": "markdown",
   "metadata": {},
   "source": [
    "Batch Normalizationの計算グラフの図解  \n",
    "<img src=\"./深層学習_data/NeuralNetwork/スライド2.png\">"
   ]
  },
  {
   "cell_type": "code",
   "execution_count": 79,
   "metadata": {},
   "outputs": [],
   "source": [
    "class BatchNorm:\n",
    "    def __init__(self, gamma=1.0, beta=0.0, momentum=0.9, running_mean=None, running_var=None):\n",
    "        self.epsilon_ = 10e-7 # 微小値(ゼロ割Runtime Errorを防ぐ)\n",
    "        \n",
    "        self.gamma_ = gamma\n",
    "        self.beta_ = beta\n",
    "        self.mu_ = None\n",
    "        self.var_ = None\n",
    "        self.std_ = None\n",
    "        \n",
    "        self.momentum_ = momentum\n",
    "        self.running_mean_ = running_mean\n",
    "        self.running_sigma_ = running_var\n",
    "        \n",
    "        self.cX_ = None\n",
    "        self.normX_ = None\n",
    "        self.dgamma_ = None\n",
    "        self.dbeta_ = None\n",
    "        \n",
    "        self.batch_size_ = None\n",
    "        self.input_shape_ = None # CNNの畳み込み層に対応\n",
    "        \n",
    "    def forward(self, X, isTrain=True):   \n",
    "        self.input_shape_ = X.shape\n",
    "        \n",
    "        # CNN畳み込み層に対応\n",
    "        if X.ndim != 2:\n",
    "            N, C, H, W = X.shape # CNNのbatchデータは4次元データ(データ数, 3次元データ)\n",
    "            X = X.reshape(N, -1)\n",
    "            \n",
    "        outX = self._forward(X, isTrain)\n",
    "        outX = outX.reshape(*self.input_shape_) # CNNの場合, 4次元データに戻す\n",
    "        return outX\n",
    "        \n",
    "    def _forward(self, X, isTrain):\n",
    "        # 初回\n",
    "        if self.running_mean_ is None:\n",
    "            D = X.shape[1] # 特徴量の列数\n",
    "            self.running_mean_ = np.zeros(D)\n",
    "            self.running_var_ = np.zeros(D)\n",
    "        \n",
    "        # Batch Norm\n",
    "        if isTrain:\n",
    "            self.batch_size_ = X.shape[0]\n",
    "            mu = np.mean(X, axis=0) # 平均ベクトル\n",
    "            cX = X - mu # (D,)\n",
    "            var = (cX**2).mean(axis=0) # 各特徴量ごとの分散\n",
    "            std = np.sqrt(var + self.epsilon_)\n",
    "            nX = cX / std # Batch Norm後の特徴行列\n",
    "            \n",
    "            # backpropagation時に使う\n",
    "            self.mu_ = mu\n",
    "            self.cX_ = cX\n",
    "            self.std_ = std\n",
    "            self.var_ = var\n",
    "            self.normX_ = nX\n",
    "            \n",
    "            # 移動平均と移動分散を計算\n",
    "            self.running_mean_ = self.momentum_*self.running_mean_ + (1.0 - self.momentum_)*self.mu_\n",
    "            self.running_var_ = self.momentum_*self.running_var_ + (1.0 - self.momentum_)*self.var_\n",
    "        else:\n",
    "            # 移動平均と移動分散を使って正規化\n",
    "            cX = X - self.running_mean_\n",
    "            nX = cX / np.sqrt(self.running_var_ + self.epsilon_)\n",
    "        \n",
    "        # Scaling\n",
    "        return self.gamma_*nX + self.beta_\n",
    "    \n",
    "    def backward(self, dout):\n",
    "        # CNN畳み込み層に対応\n",
    "        if dout.ndim != 2:\n",
    "            N, C, H, W = dout.shape\n",
    "            dout = dout.reshape(N, -1)\n",
    "            \n",
    "        dx = self._backward(dout)\n",
    "        dx = dx.reshape(*self.input_shape_)\n",
    "        return dx\n",
    "    \n",
    "    def _backward(self, dout):\n",
    "        # スケーリング変数の微分\n",
    "        self.dbeta_ = dout.sum(axis=0) # (D,)\n",
    "        self.dgamma_ = np.sum(self.normX_*dout, axis=0) # (D,)\n",
    "        \n",
    "        # 中間値の微分\n",
    "        dnormX = dout*self.gamma_ # (N,D)\n",
    "        dcX = dnormX / self.std_ # (N,D)\n",
    "        ddivX = dnormX*dcX # (N,D)\n",
    "        dstd = -np.sum(ddivX / (self.std_**2), axis=0) # (D,)\n",
    "        dvar = 0.5*dstd / self.std_ # (D,)\n",
    "        #print(\"dvar.shape\", dvar.shape)\n",
    "        #print(\"dout.shape\", dout.shape)\n",
    "        N = self.batch_size_\n",
    "        D = len(dvar)\n",
    "        dNDvar = np.ones((N, D))*(dvar / N) # (N,D) ※ (D,)のdvarをN分割して(N,D)に分配\n",
    "        dt = 2.0 * self.cX_ * dNDvar\n",
    "        dcX += dt\n",
    "        #print(\"dcX.shape\", dcX.shape)\n",
    "        dm = np.sum(dcX, axis=0)\n",
    "        #print(\"dm.shape\", dm.shape)\n",
    "        \n",
    "        # 入力Xの微分\n",
    "        dx = dcX - dm / N\n",
    "        #print(\"dx.shape\", dx.shape)\n",
    "        return dx\n",
    "        "
   ]
  },
  {
   "cell_type": "markdown",
   "metadata": {},
   "source": [
    "### 多層ニューラルネットワーク  \n",
    "Weight Decay, Batch Normalization, Dropoutに対応"
   ]
  },
  {
   "cell_type": "code",
   "execution_count": 80,
   "metadata": {},
   "outputs": [],
   "source": [
    "from collections import OrderedDict\n",
    "\n",
    "class MultiLayerNetExtend:\n",
    "    \"\"\"\n",
    "    Weight Decay, Batch Normalization, Dropoutに対応\n",
    "    \n",
    "    Parameters\n",
    "    activation: 'relu' or 'sigmoid' or 'tanh' \n",
    "    ※relu -> He, sigmoid or tanh -> Xavier　の初期値が良い\n",
    "    weight_init_std: 標準偏差σを持つ初期値, Heの初期値('he'), Xavierの初期値('xavier')\n",
    "    weight_decay_labmda: Weight DecayのL2ノルム\n",
    "    use_dropout: Dropoutの有無\n",
    "    dropout_ratio: Dropoutさせる割合\n",
    "    use_batchnorm: Batch Normalizationの有無\n",
    "    \"\"\"\n",
    "    def __init__(self, input_size, hidden_size_list, output_size, \n",
    "                 activation='relu', weight_init_std='he', weight_decay_lambda=0,\n",
    "                 use_dropout=False, dropout_ratio=0.5, use_batchnorm=False):\n",
    "        \n",
    "        self.input_size = input_size\n",
    "        self.output_size = output_size\n",
    "        self.hidden_size_list = hidden_size_list\n",
    "        self.hidden_layer_num = len(hidden_size_list)\n",
    "        self.weight_decay_lambda = weight_decay_lambda\n",
    "        self.use_dropout = use_dropout\n",
    "        self.dropout_ratio = dropout_ratio\n",
    "        self.use_batchnorm = use_batchnorm\n",
    "        self.params = {}\n",
    "        \n",
    "        # 重みの初期化\n",
    "        self.init_weight(weight_init_std)\n",
    "        \n",
    "        # レイヤの生成\n",
    "        activation_layer = {'sigmoid': Sigmoid, 'relu': ReLu, 'tanh': Tanh}\n",
    "        self.layers = OrderedDict()\n",
    "        for idx in range(1, self.hidden_layer_num + 1):\n",
    "            # Affine-Layer\n",
    "            self.layers['Affine' + str(idx)] = Affine(self.params['W' + str(idx)], self.params['b' + str(idx)])\n",
    "            \n",
    "            # BatchNorm-Layer\n",
    "            if self.use_batchnorm:\n",
    "                self.params['gamma' + str(idx)] = np.ones(hidden_size_list[idx - 1])\n",
    "                self.params['beta' + str(idx)] = np.ones(hidden_size_list[idx - 1])\n",
    "                self.layers['BatchNorm' + str(idx)] = BatchNorm(self.params['gamma' + str(idx)], \n",
    "                                                                self.params['beta' + str(idx)])\n",
    "            \n",
    "            # Activation-Layer\n",
    "            self.layers['Activation_function' + str(idx)] = activation_layer[activation]()\n",
    "            \n",
    "            # Dropout-Layer\n",
    "            if self.use_dropout:\n",
    "                self.layers['Dropout' + str(idx)] = Dropout(dropout_ratio)\n",
    "            \n",
    "        # 最終一歩手前のレイヤー\n",
    "        idx = self.hidden_layer_num + 1\n",
    "        self.layers['Affine' + str(idx)] = Affine(self.params['W' + str(idx)], self.params['b' + str(idx)])\n",
    "        \n",
    "        # 最終レイヤー(Softmax + Loss(CEE, MSE))\n",
    "        self.last_layer = SoftmaxWithLoss()\n",
    "            \n",
    "    def init_weight(self, weight_init_std):\n",
    "        # これはリスト\n",
    "        all_size_list = [self.input_size] + self.hidden_size_list + [self.output_size] \n",
    "        \n",
    "        for idx in range(1, len(all_size_list)):\n",
    "            scale = weight_init_std\n",
    "            \n",
    "            if str(weight_init_std).lower() in ('he'):\n",
    "                scale = np.sqrt(2.0 / all_size_list[idx - 1]) # for ReLu\n",
    "                \n",
    "            elif str(weight_init_std).lower() in ('xavier'):\n",
    "                scale = np.sqrt(1.0 / all_size_list[idx - 1]) # for Sigmoid\n",
    "                \n",
    "            self.params['W' + str(idx)] = scale*np.random.randn(all_size_list[idx - 1], all_size_list[idx])\n",
    "            self.params['b' + str(idx)] = np.zeros(all_size_list[idx])\n",
    "            \n",
    "            \n",
    "    def predict(self, x, isTrain=False):\n",
    "        for key, layer in self.layers.items():\n",
    "            if \"Dropout\" in key or \"BatchNorm\" in key:\n",
    "                x = layer.forward(x, isTrain)\n",
    "            else:\n",
    "                x = layer.forward(x)\n",
    "        return x\n",
    "    \n",
    "    def loss(self, x, t, isTrain=False):     \n",
    "        y = self.predict(x, isTrain)\n",
    "        \n",
    "        weight_decay = 0 # 荷重減衰項(全体)\n",
    "        \n",
    "        for idx in range(1, self.hidden_layer_num + 2): # last-hidden layerとlast-layerとの間の層を含めるから\n",
    "            W = self.params['W' + str(idx)]\n",
    "            weight_decay += 0.5*self.weight_decay_lambda*np.sum(W**2)\n",
    "            \n",
    "        return self.last_layer.forward(y, t) + weight_decay\n",
    "    \n",
    "    def accuracy(self, x, t):\n",
    "        y = self.predict(x, isTrain=False)\n",
    "        y = np.argmax(y, axis=1)\n",
    "        \n",
    "        # 教師ラベルtがone-hot-vectorの場合変換\n",
    "        if t.ndim != 1:\n",
    "            t = np.argmax(t, axis=1)\n",
    "        \n",
    "        accuracy = np.sum(y == t) / float(x.shape[0])\n",
    "        return accuracy\n",
    "    \n",
    "    def numericalGradient(self, x, t):\n",
    "        loss_W = lambda W: self.loss(x, t, isTrain=True)\n",
    "\n",
    "        grads = {}\n",
    "        for idx in range(1, self.hidden_layer_num + 2):\n",
    "            grads['W' + str(idx)] = numerical_gradient(loss_W, self.params['W' + str(idx)])\n",
    "            grads['b' + str(idx)] = numerical_gradient(loss_W, self.params['b' + str(idx)])\n",
    "            \n",
    "            if self.use_batchnorm and idx != self.hidden_layer_num+1:\n",
    "                grads['gamma' + str(idx)] = numerical_gradient(loss_W, self.params['gamma' + str(idx)])\n",
    "                grads['beta' + str(idx)] = numerical_gradient(loss_W, self.params['beta' + str(idx)])\n",
    "\n",
    "        return grads\n",
    "    \n",
    "    def autoBackGradient(self, x, t):\n",
    "        # lossの計算(forward)\n",
    "        self.loss(x, t, isTrain=True)\n",
    "        \n",
    "        # backpropagation\n",
    "        dout = 1\n",
    "        dout = self.last_layer.backward(dout)\n",
    "        \n",
    "        layers = list(self.layers.values())\n",
    "        layers.reverse()\n",
    "        for layer in layers:\n",
    "            dout = layer.backward(dout) # 自動微分\n",
    "        \n",
    "        # 各レイヤの微分値を抽出\n",
    "        grads = {}\n",
    "        for idx in range(1, self.hidden_layer_num + 2):\n",
    "            grads['W' + str(idx)] = self.layers['Affine' + str(idx)].dW\n",
    "            grads['W' + str(idx)] += self.weight_decay_lambda*self.params['W' + str(idx)] # 荷重減衰項の微分項\n",
    "            grads['b' + str(idx)] = self.layers['Affine' + str(idx)].db\n",
    "            \n",
    "            if self.use_batchnorm and idx != self.hidden_layer_num + 1:\n",
    "                grads['gamma' + str(idx)] = self.layers['BatchNorm' + str(idx)].dgamma_\n",
    "                grads['beta' + str(idx)] = self.layers['BatchNorm' + str(idx)].dbeta_\n",
    "            \n",
    "        return grads"
   ]
  },
  {
   "cell_type": "markdown",
   "metadata": {},
   "source": [
    "BatchNormの勾配チェック"
   ]
  },
  {
   "cell_type": "code",
   "execution_count": 81,
   "metadata": {},
   "outputs": [
    {
     "name": "stdout",
     "output_type": "stream",
     "text": [
      "x_batch.shape (1, 784)\n",
      "t_batch.shape (1,)\n",
      "W1:0.0\n",
      "b1:0.0\n",
      "gamma1:0.0\n",
      "beta1:0.0\n",
      "W2:0.0\n",
      "b2:0.0\n",
      "gamma2:0.0\n",
      "beta2:2.1797360617858975e-12\n",
      "W3:1.0303536045197514e-10\n",
      "b3:1.0302869911382739e-10\n"
     ]
    }
   ],
   "source": [
    "network = MultiLayerNetExtend(input_size=784\n",
    "                              ,hidden_size_list=[100, 100]\n",
    "                              ,output_size=10\n",
    "                              ,use_batchnorm=True)\n",
    "\n",
    "x_batch = x_train[:1]\n",
    "print(\"x_batch.shape\", x_batch.shape)\n",
    "t_batch = t_train[:1]\n",
    "print(\"t_batch.shape\", t_batch.shape)\n",
    "\n",
    "grad_numerical = network.numericalGradient(x_batch, t_batch)\n",
    "grad_backprop = network.autoBackGradient(x_batch, t_batch)\n",
    "#print(\"grad_numerical\", grad_numerical)\n",
    "#print(\"grad_backprop\", grad_backprop)\n",
    "\n",
    "# 各重みの絶対誤差の平均を求める\n",
    "for key in grad_numerical.keys():\n",
    "    diff = np.average(np.abs(grad_backprop[key] - grad_numerical[key]))\n",
    "    print(key + \":\" + str(diff))"
   ]
  },
  {
   "cell_type": "markdown",
   "metadata": {},
   "source": [
    "Stochastic Gradient Descent"
   ]
  },
  {
   "cell_type": "code",
   "execution_count": 82,
   "metadata": {},
   "outputs": [],
   "source": [
    "class SGD:\n",
    "    def __init__(self, lr=0.01):\n",
    "        self.lr = lr\n",
    "    \n",
    "    def update(self, params, grads):\n",
    "        for key in params.keys():\n",
    "            params[key] -= self.lr*grads[key]"
   ]
  },
  {
   "cell_type": "markdown",
   "metadata": {},
   "source": [
    "## Batch Normの有無による学習速度の違い"
   ]
  },
  {
   "cell_type": "code",
   "execution_count": 101,
   "metadata": {},
   "outputs": [
    {
     "name": "stdout",
     "output_type": "stream",
     "text": [
      "============== 1/16 ==============\n"
     ]
    },
    {
     "name": "stderr",
     "output_type": "stream",
     "text": [
      "/Users/inoueshinichi/.pyenv/versions/anaconda3-5.0.1/envs/Education/lib/python3.6/site-packages/ipykernel_launcher.py:21: RuntimeWarning: divide by zero encountered in log\n",
      "/Users/inoueshinichi/.pyenv/versions/anaconda3-5.0.1/envs/Education/lib/python3.6/site-packages/ipykernel_launcher.py:9: RuntimeWarning: invalid value encountered in less_equal\n",
      "  if __name__ == '__main__':\n",
      "No handles with labels found to put in legend.\n",
      "/Users/inoueshinichi/.pyenv/versions/anaconda3-5.0.1/envs/Education/lib/python3.6/site-packages/ipykernel_launcher.py:93: RuntimeWarning: overflow encountered in square\n",
      "/Users/inoueshinichi/.pyenv/versions/anaconda3-5.0.1/envs/Education/lib/python3.6/site-packages/ipykernel_launcher.py:93: RuntimeWarning: invalid value encountered in double_scalars\n"
     ]
    },
    {
     "name": "stdout",
     "output_type": "stream",
     "text": [
      "============== 2/16 ==============\n"
     ]
    },
    {
     "name": "stderr",
     "output_type": "stream",
     "text": [
      "No handles with labels found to put in legend.\n"
     ]
    },
    {
     "name": "stdout",
     "output_type": "stream",
     "text": [
      "============== 3/16 ==============\n"
     ]
    },
    {
     "name": "stderr",
     "output_type": "stream",
     "text": [
      "No handles with labels found to put in legend.\n"
     ]
    },
    {
     "name": "stdout",
     "output_type": "stream",
     "text": [
      "============== 4/16 ==============\n"
     ]
    },
    {
     "name": "stderr",
     "output_type": "stream",
     "text": [
      "No handles with labels found to put in legend.\n"
     ]
    },
    {
     "name": "stdout",
     "output_type": "stream",
     "text": [
      "============== 5/16 ==============\n"
     ]
    },
    {
     "name": "stderr",
     "output_type": "stream",
     "text": [
      "No handles with labels found to put in legend.\n"
     ]
    },
    {
     "name": "stdout",
     "output_type": "stream",
     "text": [
      "============== 6/16 ==============\n"
     ]
    },
    {
     "name": "stderr",
     "output_type": "stream",
     "text": [
      "No handles with labels found to put in legend.\n"
     ]
    },
    {
     "name": "stdout",
     "output_type": "stream",
     "text": [
      "============== 7/16 ==============\n"
     ]
    },
    {
     "name": "stderr",
     "output_type": "stream",
     "text": [
      "No handles with labels found to put in legend.\n"
     ]
    },
    {
     "name": "stdout",
     "output_type": "stream",
     "text": [
      "============== 8/16 ==============\n"
     ]
    },
    {
     "name": "stderr",
     "output_type": "stream",
     "text": [
      "No handles with labels found to put in legend.\n"
     ]
    },
    {
     "name": "stdout",
     "output_type": "stream",
     "text": [
      "============== 9/16 ==============\n"
     ]
    },
    {
     "name": "stderr",
     "output_type": "stream",
     "text": [
      "No handles with labels found to put in legend.\n"
     ]
    },
    {
     "name": "stdout",
     "output_type": "stream",
     "text": [
      "============== 10/16 ==============\n"
     ]
    },
    {
     "name": "stderr",
     "output_type": "stream",
     "text": [
      "No handles with labels found to put in legend.\n"
     ]
    },
    {
     "name": "stdout",
     "output_type": "stream",
     "text": [
      "============== 11/16 ==============\n"
     ]
    },
    {
     "name": "stderr",
     "output_type": "stream",
     "text": [
      "No handles with labels found to put in legend.\n"
     ]
    },
    {
     "name": "stdout",
     "output_type": "stream",
     "text": [
      "============== 12/16 ==============\n"
     ]
    },
    {
     "name": "stderr",
     "output_type": "stream",
     "text": [
      "No handles with labels found to put in legend.\n"
     ]
    },
    {
     "name": "stdout",
     "output_type": "stream",
     "text": [
      "============== 13/16 ==============\n"
     ]
    },
    {
     "name": "stderr",
     "output_type": "stream",
     "text": [
      "No handles with labels found to put in legend.\n"
     ]
    },
    {
     "name": "stdout",
     "output_type": "stream",
     "text": [
      "============== 14/16 ==============\n"
     ]
    },
    {
     "name": "stderr",
     "output_type": "stream",
     "text": [
      "No handles with labels found to put in legend.\n"
     ]
    },
    {
     "name": "stdout",
     "output_type": "stream",
     "text": [
      "============== 15/16 ==============\n"
     ]
    },
    {
     "name": "stderr",
     "output_type": "stream",
     "text": [
      "No handles with labels found to put in legend.\n"
     ]
    },
    {
     "name": "stdout",
     "output_type": "stream",
     "text": [
      "============== 16/16 ==============\n"
     ]
    },
    {
     "data": {
      "image/png": "[encoded data removed]",
      "text/plain": [
       "<Figure size 1152x576 with 16 Axes>"
      ]
     },
     "metadata": {
      "needs_background": "light"
     },
     "output_type": "display_data"
    }
   ],
   "source": [
    "x_train = x_train[:200]\n",
    "t_train = t_train[:200]\n",
    "\n",
    "max_epochs = 20\n",
    "train_size = x_train.shape[0]\n",
    "batch_size=10\n",
    "learning_rate = 0.01\n",
    "\n",
    "optimizer = SGD(lr=learning_rate)\n",
    "\n",
    "# トレーニングによる正解率\n",
    "def __train(weight_init_std):\n",
    "    bn_network = MultiLayerNetExtend(input_size=784\n",
    "                                    ,hidden_size_list=[100, 100, 100, 100, 100]\n",
    "                                    ,output_size=10\n",
    "                                    ,weight_init_std=weight_init_std\n",
    "                                    ,use_batchnorm=True)\n",
    "    \n",
    "    network = MultiLayerNetExtend(input_size=784\n",
    "                                 ,hidden_size_list=[100, 100, 100, 100, 100]\n",
    "                                 ,output_size=10\n",
    "                                 ,weight_init_std=weight_init_std\n",
    "                                 ,use_batchnorm=False)\n",
    "    \n",
    "    train_acc_list = []\n",
    "    bn_train_acc_list = []\n",
    "    \n",
    "    iter_per_epoch = max(train_size / batch_size, 1)\n",
    "    epoch_cnt = 0\n",
    "    \n",
    "    for i in range(1000000000):\n",
    "        batch_mask = np.random.choice(train_size, batch_size)\n",
    "        x_batch = x_train[batch_mask]\n",
    "        t_batch = t_train[batch_mask]\n",
    "        \n",
    "        for _network in (bn_network, network):\n",
    "            grads = _network.autoBackGradient(x_batch, t_batch)\n",
    "            optimizer.update(_network.params, grads)\n",
    "            \n",
    "        if i % iter_per_epoch == 0:\n",
    "                train_acc = network.accuracy(x_train, t_train)\n",
    "                bn_train_acc = bn_network.accuracy(x_train, t_train)\n",
    "                train_acc_list.append(train_acc)\n",
    "                bn_train_acc_list.append(bn_train_acc)\n",
    "                \n",
    "                #print(\"epoch:\" + str(epoch_cnt) + \" | \" + str(train_acc) + \" - \" + str(bn_train_acc))\n",
    "                \n",
    "                epoch_cnt += 1\n",
    "                if epoch_cnt >= max_epochs:\n",
    "                    break\n",
    "        \n",
    "    return train_acc_list, bn_train_acc_list\n",
    "    \n",
    "# グラフの描画\n",
    "weight_scale_list = np.logspace(0, -4, num=16)\n",
    "x = np.arange(max_epochs)\n",
    "\n",
    "fig = plt.figure(figsize=(16, 8))\n",
    "for i, w in enumerate(weight_scale_list):\n",
    "    print( \"============== \" + str(i+1) + \"/16\" + \" ==============\")\n",
    "    train_acc_list, bn_train_acc_list = __train(w)\n",
    "    \n",
    "    plt.subplot(4,4,i+1)\n",
    "    plt.title(\"W:\" + str(w))\n",
    "    \n",
    "    if i == 15:\n",
    "        plt.plot(x, bn_train_acc_list, label='Batch Normalization', markevery=2)\n",
    "        plt.plot(x, train_acc_list, linestyle = \"--\", label='Normal(without BatchNorm)', markevery=2)\n",
    "    else:\n",
    "        plt.plot(x, bn_train_acc_list, markevery=2)\n",
    "        plt.plot(x, train_acc_list, linestyle=\"--\", markevery=2)\n",
    "        \n",
    "    plt.ylim(0, 1.0)\n",
    "    if i % 4:\n",
    "        plt.yticks([])\n",
    "    else:\n",
    "        plt.ylabel(\"accuracy\")\n",
    "    if i < 12:\n",
    "        plt.xticks([])\n",
    "    else:\n",
    "        plt.xlabel(\"epochs\")\n",
    "    plt.legend(loc='lower right')\n",
    "    \n",
    "plt.show()"
   ]
  },
  {
   "cell_type": "markdown",
   "metadata": {},
   "source": [
    "<img src=\"./深層学習_data/NeuralNetwork/スライド3.png\">"
   ]
  },
  {
   "cell_type": "markdown",
   "metadata": {},
   "source": [
    "Momentum"
   ]
  },
  {
   "cell_type": "code",
   "execution_count": 84,
   "metadata": {},
   "outputs": [],
   "source": [
    "# Momentum\n",
    "# v <- αV - η*dL/dW\n",
    "# W <- W + v\n",
    "# vは速度, -η*dL/dWが加速度\n",
    "# 勾配がきつい所ほど、更新の値が大きい\n",
    "# α 減速項\n",
    "\n",
    "class Momentum:\n",
    "    def __init__(self, lr=0.01, momentum=0.9):\n",
    "        self.lr = lr\n",
    "        self.momentum = momentum\n",
    "        self.v = None\n",
    "    \n",
    "    def update(self, params, grads):\n",
    "        if self.v is None:\n",
    "            self.v = {}\n",
    "            for key, val in params.items():\n",
    "                self.v[key] = np.zeros_like(val)\n",
    "        \n",
    "        for key in params.keys():\n",
    "            self.v[key] = self.momentum*self.v[key] - self.lr*grads[key]\n",
    "            params[key] += self.v[key]"
   ]
  },
  {
   "cell_type": "markdown",
   "metadata": {},
   "source": [
    "AdaGrad"
   ]
  },
  {
   "cell_type": "code",
   "execution_count": 85,
   "metadata": {},
   "outputs": [],
   "source": [
    "# AdaGrad\n",
    "# learning rate decay 徐々に学習係数を小さくする\n",
    "# 学習係数を全体で一括して下げるのではなく、一つ一つのパラメータに対して個々で減衰させる\n",
    "# h <- dL/dW ⦿ dL/dW ※⦿は要素毎の掛け算 つまりhは勾配の２乗和を加算したもの\n",
    "# W <- W - (η/√h) * dL/dW\n",
    "# hは学習が進むに連れて、大きくなるが逓減する\n",
    "# 1/√hはh=0で無限大、hが増加するに連れて小さくなる\n",
    "\n",
    "class AdaGrad:\n",
    "    def __init__(self, lr=0.01):\n",
    "        self.lr = lr\n",
    "        self.h = None\n",
    "        \n",
    "    def update(self, params, grads):\n",
    "        if self.h is None:\n",
    "            self.h = {}\n",
    "            for key, val in params.items():\n",
    "                self.h[key] = np.zeros_like(val)\n",
    "        \n",
    "        for key in params.keys():\n",
    "            self.h[key] += grads[key]*grads[key]\n",
    "            params[key] -= self.lr*grads[key] / (np.sqrt(self.h[key]) + 1e-7)"
   ]
  },
  {
   "cell_type": "code",
   "execution_count": 86,
   "metadata": {},
   "outputs": [],
   "source": [
    "# Adam ≒　Momentum + AdaGrad\n",
    "class Adam:\n",
    "    def __init__(self, lr=0.001, beta1=0.9, beta2=0.999):\n",
    "        self.lr = lr\n",
    "        self.beta1 = beta1\n",
    "        self.beta2 = beta2\n",
    "        self.iter = 0\n",
    "        self.m = None\n",
    "        self.v = None\n",
    "        self.h = 1e-7 # ゼロ割防止の為の微小値\n",
    "\n",
    "    def update(self, params, grads):\n",
    "        if self.m is None:\n",
    "            self.m, self.v = {}, {}\n",
    "            for key, val in params.items():\n",
    "                self.m[key] = np.zeros_like(val)\n",
    "                self.v[key] = np.zeros_like(val)\n",
    "\n",
    "        self.iter += 1\n",
    "        lr_t = self.lr*np.sqrt(1.0 - self.beta2**self.iter) / (1.0 - self.beta1**self.iter)\n",
    "\n",
    "        for key, val in params.items():\n",
    "            self.m[key] += (1 - self.beta1)*(grads[key] - self.m[key])\n",
    "            self.v[key] += (1 - self.beta2)*(grads[key]**2 - self.v[key])\n",
    "            params[key] -= lr_t * self.m[key] / (np.sqrt(self.v[key]) + self.h)"
   ]
  },
  {
   "cell_type": "markdown",
   "metadata": {},
   "source": [
    "RMSprop"
   ]
  },
  {
   "cell_type": "code",
   "execution_count": 87,
   "metadata": {},
   "outputs": [],
   "source": [
    "class RMSprop:\n",
    "    def __init__(self, lr=0.01, decay_rate=0.99):\n",
    "        self.lr = lr\n",
    "        self.decay_rate = decay_rate\n",
    "        self.h = None\n",
    "        self.e = 1e-7 # ゼロ割を防ぐための微小値\n",
    "\n",
    "    def update(self, params, grads):\n",
    "        if self.h is None:\n",
    "            self.h = {}\n",
    "            for key, val in params.items():\n",
    "                self.h[key] = np.zeros_like(val)\n",
    "\n",
    "        for key in params.keys():\n",
    "            self.h[key] *= self.decay_rate\n",
    "            self.h[key] += (1.0 - self.decay_rate)*grads[key]*grads[key]\n",
    "            params[key] -= self.lr * grads[key] / (np.sqrt(self.h[key]) + self.e)"
   ]
  },
  {
   "cell_type": "markdown",
   "metadata": {},
   "source": [
    "Nesterov"
   ]
  },
  {
   "cell_type": "code",
   "execution_count": 88,
   "metadata": {},
   "outputs": [],
   "source": [
    "class Nesterov:\n",
    "    def __init__(self, lr=0.01, momentum=0.9):\n",
    "        self.lr = lr\n",
    "        self.momentum = momentum\n",
    "        self.v = None\n",
    "\n",
    "    def update(self, params, grads):\n",
    "        if self.v is None:\n",
    "            self.v = {}\n",
    "            for key, val in params.items():\n",
    "                self.v[key] = np.zeros_like(val)\n",
    "\n",
    "        for key in params.keys():\n",
    "            self.v[key] *= self.v[key]\n",
    "            self.v[key] -= self.lr*grads[key]\n",
    "            params[key] += self.momentum*self.momentum*self.v[key]\n",
    "            params[key] -= (1.0 + self.momentum)*self.lr*self.v[key]"
   ]
  },
  {
   "cell_type": "code",
   "execution_count": 89,
   "metadata": {},
   "outputs": [],
   "source": [
    "def smooth_curve(x):\n",
    "    # 畳み込みを利用して曲線をなめらかにする\n",
    "    # 対象はコスト関数\n",
    "    window_len = 11\n",
    "    s = np.r_[x[window_len-1:0:-1], x, x[-1:-window_len:-1]] # 1次元配列の連結？\n",
    "    w = np.kaiser(window_len, 2)\n",
    "    y = np.convolve(w/w.sum(), s, mode='valid')\n",
    "    return y[5:len(y)-5]"
   ]
  },
  {
   "cell_type": "markdown",
   "metadata": {},
   "source": [
    "学習"
   ]
  },
  {
   "cell_type": "code",
   "execution_count": 90,
   "metadata": {},
   "outputs": [
    {
     "name": "stdout",
     "output_type": "stream",
     "text": [
      "(60000, 784)\n",
      "(10000, 784)\n"
     ]
    }
   ],
   "source": [
    "import sys\n",
    "import os\n",
    "from mnist import load_mnist\n",
    "(x_train, t_train), (x_test, t_test) = load_mnist(normalize=True, one_hot_label=False)\n",
    "print(x_train.shape)\n",
    "print(x_test.shape)"
   ]
  },
  {
   "cell_type": "markdown",
   "metadata": {},
   "source": [
    "# 最適化手法による学習速度の違い"
   ]
  },
  {
   "cell_type": "markdown",
   "metadata": {},
   "source": [
    "学習"
   ]
  },
  {
   "cell_type": "code",
   "execution_count": 91,
   "metadata": {},
   "outputs": [
    {
     "name": "stderr",
     "output_type": "stream",
     "text": [
      "/Users/inoueshinichi/.pyenv/versions/anaconda3-5.0.1/envs/Education/lib/python3.6/site-packages/ipykernel_launcher.py:21: RuntimeWarning: divide by zero encountered in log\n"
     ]
    },
    {
     "name": "stdout",
     "output_type": "stream",
     "text": [
      "-----iteration:0-----\n",
      "SGD:161.81034209748344\n",
      "Momentum:107.78914496434379\n",
      "AdaGrad:69.09107089556913\n",
      "Adam:162.47899743948045\n",
      "RMSprop:inf\n",
      "Nesterov:149.57459115205427\n",
      "-----iteration:200-----\n",
      "SGD:0.41235391543065913\n",
      "Momentum:0.21219074179423553\n",
      "AdaGrad:0.1116858566577216\n",
      "Adam:0.22037990822144032\n",
      "RMSprop:0.09901644161454196\n",
      "Nesterov:0.4472034966551269\n",
      "-----iteration:400-----\n",
      "SGD:0.42285988523919793\n",
      "Momentum:0.19301772542153767\n",
      "AdaGrad:0.12876920331489045\n",
      "Adam:0.1682383667262666\n",
      "RMSprop:0.0640989109346048\n",
      "Nesterov:0.4065761261880523\n",
      "-----iteration:600-----\n",
      "SGD:0.36068059992726165\n",
      "Momentum:0.163229802676649\n",
      "AdaGrad:0.1201983413971802\n",
      "Adam:0.1559290166663137\n",
      "RMSprop:0.04697691972279808\n",
      "Nesterov:0.38352074739462627\n",
      "-----iteration:800-----\n",
      "SGD:0.28567476179525075\n",
      "Momentum:0.14990892220494365\n",
      "AdaGrad:0.11464709311911991\n",
      "Adam:0.12425668781385446\n",
      "RMSprop:0.06286709549526565\n",
      "Nesterov:0.3314420422201195\n",
      "-----iteration:1000-----\n",
      "SGD:0.28626357324074886\n",
      "Momentum:0.07485592832505049\n",
      "AdaGrad:0.0740778367533814\n",
      "Adam:0.05940141664971197\n",
      "RMSprop:0.010232619410980255\n",
      "Nesterov:0.299365051274615\n",
      "-----iteration:1200-----\n",
      "SGD:0.24700044894440837\n",
      "Momentum:0.08642730734339615\n",
      "AdaGrad:0.06524614635879634\n",
      "Adam:0.044868566017275645\n",
      "RMSprop:0.018292580801104404\n",
      "Nesterov:0.24660170959706612\n",
      "-----iteration:1400-----\n",
      "SGD:0.2360368707631288\n",
      "Momentum:0.10737047927293644\n",
      "AdaGrad:0.09466978521598517\n",
      "Adam:0.06572294929544792\n",
      "RMSprop:0.00987831443493824\n",
      "Nesterov:0.26339453131427787\n",
      "-----iteration:1600-----\n",
      "SGD:0.1909319426867017\n",
      "Momentum:0.07945465104588734\n",
      "AdaGrad:0.07763561831114969\n",
      "Adam:0.04342047751437083\n",
      "RMSprop:0.03762313257985179\n",
      "Nesterov:0.20270975493355137\n",
      "-----iteration:1800-----\n",
      "SGD:0.2711983246549202\n",
      "Momentum:0.15656251768499757\n",
      "AdaGrad:0.15030379246718503\n",
      "Adam:0.1416703516177571\n",
      "RMSprop:0.009600228171990504\n",
      "Nesterov:0.28673707669870707\n"
     ]
    }
   ],
   "source": [
    "train_size = x_train.shape[0]\n",
    "batch_size = 128\n",
    "max_iterations = 2000\n",
    "\n",
    "optimizers = {}\n",
    "optimizers['SGD'] = SGD()\n",
    "optimizers['Momentum'] =Momentum()\n",
    "optimizers['AdaGrad'] = AdaGrad()\n",
    "optimizers['Adam'] = Adam()\n",
    "optimizers['RMSprop'] = RMSprop()\n",
    "optimizers['Nesterov'] = Nesterov()\n",
    "\n",
    "networks = {}\n",
    "train_loss = {}\n",
    "for key in optimizers.keys():\n",
    "    networks[key] = MultiLayerNetExtend(activation='relu'\n",
    "                                        ,weight_init_std='he'\n",
    "                                        ,input_size=784\n",
    "                                        ,hidden_size_list=[100, 100, 100, 100]\n",
    "                                        ,output_size=10\n",
    "                                        ,use_batchnorm=True)\n",
    "    \n",
    "    train_loss[key] = []\n",
    "    \n",
    "for i in range(max_iterations):\n",
    "    batch_mask = np.random.choice(train_size, batch_size)\n",
    "    x_batch = x_train[batch_mask]\n",
    "    t_batch = t_train[batch_mask]\n",
    "    \n",
    "    for key in optimizers.keys():\n",
    "        grads = networks[key].autoBackGradient(x_batch, t_batch)\n",
    "        optimizers[key].update(networks[key].params, grads)\n",
    "        loss = networks[key].loss(x_batch, t_batch)\n",
    "        train_loss[key].append(loss)\n",
    "        \n",
    "    if i % 200 == 0:\n",
    "        print(\"-----\" + \"iteration:\" + str(i) + \"-----\")\n",
    "        for key in optimizers.keys():\n",
    "            loss = networks[key].loss(x_batch, t_batch)\n",
    "            print(key + \":\" + str(loss))"
   ]
  },
  {
   "cell_type": "markdown",
   "metadata": {},
   "source": [
    "誤差比較"
   ]
  },
  {
   "cell_type": "code",
   "execution_count": 92,
   "metadata": {},
   "outputs": [
    {
     "data": {
      "image/png": "[encoded data removed]",
      "text/plain": [
       "<Figure size 432x288 with 1 Axes>"
      ]
     },
     "metadata": {
      "needs_background": "light"
     },
     "output_type": "display_data"
    }
   ],
   "source": [
    "import matplotlib.pyplot as plt\n",
    "markers = {\"SGD\": \"o\", \"Momentum\": \"x\", \"AdaGrad\": \"s\", \"Adam\": \"D\", \"RMSprop\": \"*\", \"Nesterov\": \"+\"}\n",
    "x = np.arange(max_iterations)\n",
    "for key in optimizers.keys():\n",
    "    plt.plot(x, smooth_curve(train_loss[key]), marker=markers[key], markevery=100, label=key)\n",
    "plt.xlabel(\"iterations\")\n",
    "plt.ylabel(\"loss\")\n",
    "plt.ylim(0, 1)\n",
    "plt.legend()\n",
    "plt.show()"
   ]
  },
  {
   "cell_type": "markdown",
   "metadata": {
    "collapsed": true
   },
   "source": [
    "<img src=\"./深層学習_data/NeuralNetwork/スライド4.png\">"
   ]
  },
  {
   "cell_type": "markdown",
   "metadata": {
    "collapsed": true
   },
   "source": [
    "# Weight Decay（荷重減衰）  \n",
    "・コスト関数にパラメータのL2ノルム$\\frac{1}{2}\\lambda||\\boldsymbol{W}||$を追加  \n",
    "・各パラメータの算出した勾配にL2ノルムの微分値$\\lambda\\boldsymbol{W}$を追加"
   ]
  },
  {
   "cell_type": "markdown",
   "metadata": {},
   "source": [
    "目的はパラメータ$\\boldsymbol{W}$が過大になることを防ぎ、汎化性能を上げる"
   ]
  },
  {
   "cell_type": "markdown",
   "metadata": {},
   "source": [
    "学習"
   ]
  },
  {
   "cell_type": "code",
   "execution_count": 99,
   "metadata": {},
   "outputs": [
    {
     "name": "stdout",
     "output_type": "stream",
     "text": [
      "epoch:0, train acc:0.08666666666666667, test acc:0.0936\n",
      "epoch:1, train acc:0.11666666666666667, test acc:0.1118\n",
      "epoch:2, train acc:0.17, test acc:0.1463\n",
      "epoch:3, train acc:0.37666666666666665, test acc:0.2813\n",
      "epoch:4, train acc:0.6133333333333333, test acc:0.4687\n",
      "epoch:5, train acc:0.8566666666666667, test acc:0.6064\n",
      "epoch:6, train acc:0.9133333333333333, test acc:0.6725\n",
      "epoch:7, train acc:0.9666666666666667, test acc:0.7038\n",
      "epoch:8, train acc:0.97, test acc:0.7235\n",
      "epoch:9, train acc:0.9833333333333333, test acc:0.7383\n",
      "epoch:10, train acc:0.9933333333333333, test acc:0.7594\n",
      "epoch:11, train acc:0.9933333333333333, test acc:0.7699\n",
      "epoch:12, train acc:0.9933333333333333, test acc:0.7734\n",
      "epoch:13, train acc:0.9933333333333333, test acc:0.7742\n",
      "epoch:14, train acc:0.9933333333333333, test acc:0.7751\n",
      "epoch:15, train acc:0.9933333333333333, test acc:0.7779\n",
      "epoch:16, train acc:0.9966666666666667, test acc:0.7779\n",
      "epoch:17, train acc:1.0, test acc:0.7828\n",
      "epoch:18, train acc:1.0, test acc:0.7831\n",
      "epoch:19, train acc:1.0, test acc:0.7813\n",
      "epoch:20, train acc:1.0, test acc:0.7831\n",
      "epoch:21, train acc:1.0, test acc:0.7818\n",
      "epoch:22, train acc:1.0, test acc:0.7836\n",
      "epoch:23, train acc:1.0, test acc:0.7839\n",
      "epoch:24, train acc:1.0, test acc:0.7835\n",
      "epoch:25, train acc:1.0, test acc:0.7865\n",
      "epoch:26, train acc:1.0, test acc:0.7863\n",
      "epoch:27, train acc:1.0, test acc:0.7858\n",
      "epoch:28, train acc:1.0, test acc:0.7853\n",
      "epoch:29, train acc:1.0, test acc:0.7851\n",
      "epoch:30, train acc:1.0, test acc:0.7875\n",
      "epoch:31, train acc:1.0, test acc:0.7888\n",
      "epoch:32, train acc:1.0, test acc:0.7872\n",
      "epoch:33, train acc:1.0, test acc:0.7858\n",
      "epoch:34, train acc:1.0, test acc:0.7868\n",
      "epoch:35, train acc:1.0, test acc:0.7896\n",
      "epoch:36, train acc:1.0, test acc:0.7882\n",
      "epoch:37, train acc:1.0, test acc:0.7876\n",
      "epoch:38, train acc:1.0, test acc:0.7875\n",
      "epoch:39, train acc:1.0, test acc:0.787\n",
      "epoch:40, train acc:1.0, test acc:0.7892\n",
      "epoch:41, train acc:1.0, test acc:0.791\n",
      "epoch:42, train acc:1.0, test acc:0.7903\n",
      "epoch:43, train acc:1.0, test acc:0.7907\n",
      "epoch:44, train acc:1.0, test acc:0.7902\n",
      "epoch:45, train acc:1.0, test acc:0.7904\n",
      "epoch:46, train acc:1.0, test acc:0.7902\n",
      "epoch:47, train acc:1.0, test acc:0.7887\n",
      "epoch:48, train acc:1.0, test acc:0.7874\n",
      "epoch:49, train acc:1.0, test acc:0.7885\n",
      "epoch:50, train acc:1.0, test acc:0.7887\n",
      "epoch:51, train acc:1.0, test acc:0.7884\n",
      "epoch:52, train acc:1.0, test acc:0.7889\n",
      "epoch:53, train acc:1.0, test acc:0.7904\n",
      "epoch:54, train acc:1.0, test acc:0.7905\n",
      "epoch:55, train acc:1.0, test acc:0.79\n",
      "epoch:56, train acc:1.0, test acc:0.7891\n",
      "epoch:57, train acc:1.0, test acc:0.7885\n",
      "epoch:58, train acc:1.0, test acc:0.7891\n",
      "epoch:59, train acc:1.0, test acc:0.7898\n",
      "epoch:60, train acc:1.0, test acc:0.7894\n",
      "epoch:61, train acc:1.0, test acc:0.789\n",
      "epoch:62, train acc:1.0, test acc:0.7906\n",
      "epoch:63, train acc:1.0, test acc:0.789\n",
      "epoch:64, train acc:1.0, test acc:0.7904\n",
      "epoch:65, train acc:1.0, test acc:0.7894\n",
      "epoch:66, train acc:1.0, test acc:0.7875\n",
      "epoch:67, train acc:1.0, test acc:0.7877\n",
      "epoch:68, train acc:1.0, test acc:0.7915\n",
      "epoch:69, train acc:1.0, test acc:0.7907\n",
      "epoch:70, train acc:1.0, test acc:0.7912\n",
      "epoch:71, train acc:1.0, test acc:0.7921\n",
      "epoch:72, train acc:1.0, test acc:0.7927\n",
      "epoch:73, train acc:1.0, test acc:0.791\n",
      "epoch:74, train acc:1.0, test acc:0.7914\n",
      "epoch:75, train acc:1.0, test acc:0.7904\n",
      "epoch:76, train acc:1.0, test acc:0.7925\n",
      "epoch:77, train acc:1.0, test acc:0.7923\n",
      "epoch:78, train acc:1.0, test acc:0.7913\n",
      "epoch:79, train acc:1.0, test acc:0.7907\n",
      "epoch:80, train acc:1.0, test acc:0.7908\n",
      "epoch:81, train acc:1.0, test acc:0.7865\n",
      "epoch:82, train acc:1.0, test acc:0.7888\n",
      "epoch:83, train acc:1.0, test acc:0.788\n",
      "epoch:84, train acc:1.0, test acc:0.7885\n",
      "epoch:85, train acc:1.0, test acc:0.7902\n",
      "epoch:86, train acc:1.0, test acc:0.7903\n",
      "epoch:87, train acc:1.0, test acc:0.7908\n",
      "epoch:88, train acc:1.0, test acc:0.79\n",
      "epoch:89, train acc:1.0, test acc:0.7907\n",
      "epoch:90, train acc:1.0, test acc:0.7909\n",
      "epoch:91, train acc:1.0, test acc:0.7916\n",
      "epoch:92, train acc:1.0, test acc:0.7899\n",
      "epoch:93, train acc:1.0, test acc:0.7919\n",
      "epoch:94, train acc:1.0, test acc:0.7919\n",
      "epoch:95, train acc:1.0, test acc:0.7918\n",
      "epoch:96, train acc:1.0, test acc:0.7913\n",
      "epoch:97, train acc:1.0, test acc:0.7919\n",
      "epoch:98, train acc:1.0, test acc:0.7908\n",
      "epoch:99, train acc:1.0, test acc:0.7916\n",
      "epoch:100, train acc:1.0, test acc:0.7919\n",
      "epoch:101, train acc:1.0, test acc:0.791\n",
      "epoch:102, train acc:1.0, test acc:0.7913\n",
      "epoch:103, train acc:1.0, test acc:0.7908\n",
      "epoch:104, train acc:1.0, test acc:0.793\n",
      "epoch:105, train acc:1.0, test acc:0.7922\n",
      "epoch:106, train acc:1.0, test acc:0.7929\n",
      "epoch:107, train acc:1.0, test acc:0.7913\n",
      "epoch:108, train acc:1.0, test acc:0.7912\n",
      "epoch:109, train acc:1.0, test acc:0.7904\n",
      "epoch:110, train acc:1.0, test acc:0.7912\n",
      "epoch:111, train acc:1.0, test acc:0.7906\n",
      "epoch:112, train acc:1.0, test acc:0.7923\n",
      "epoch:113, train acc:1.0, test acc:0.7921\n",
      "epoch:114, train acc:1.0, test acc:0.7919\n",
      "epoch:115, train acc:1.0, test acc:0.7911\n",
      "epoch:116, train acc:1.0, test acc:0.7925\n",
      "epoch:117, train acc:1.0, test acc:0.793\n",
      "epoch:118, train acc:1.0, test acc:0.7915\n",
      "epoch:119, train acc:1.0, test acc:0.7903\n",
      "epoch:120, train acc:1.0, test acc:0.7922\n",
      "epoch:121, train acc:1.0, test acc:0.7905\n",
      "epoch:122, train acc:1.0, test acc:0.7904\n",
      "epoch:123, train acc:1.0, test acc:0.7906\n",
      "epoch:124, train acc:1.0, test acc:0.7903\n",
      "epoch:125, train acc:1.0, test acc:0.7911\n",
      "epoch:126, train acc:1.0, test acc:0.7899\n",
      "epoch:127, train acc:1.0, test acc:0.7901\n",
      "epoch:128, train acc:1.0, test acc:0.7884\n",
      "epoch:129, train acc:1.0, test acc:0.7894\n",
      "epoch:130, train acc:1.0, test acc:0.7897\n",
      "epoch:131, train acc:1.0, test acc:0.79\n",
      "epoch:132, train acc:1.0, test acc:0.7902\n",
      "epoch:133, train acc:1.0, test acc:0.7916\n",
      "epoch:134, train acc:1.0, test acc:0.7924\n",
      "epoch:135, train acc:1.0, test acc:0.7926\n",
      "epoch:136, train acc:1.0, test acc:0.793\n",
      "epoch:137, train acc:1.0, test acc:0.7906\n",
      "epoch:138, train acc:1.0, test acc:0.7891\n",
      "epoch:139, train acc:1.0, test acc:0.7921\n",
      "epoch:140, train acc:1.0, test acc:0.7904\n",
      "epoch:141, train acc:1.0, test acc:0.7894\n",
      "epoch:142, train acc:1.0, test acc:0.7891\n",
      "epoch:143, train acc:1.0, test acc:0.7893\n",
      "epoch:144, train acc:1.0, test acc:0.7898\n",
      "epoch:145, train acc:1.0, test acc:0.7912\n",
      "epoch:146, train acc:1.0, test acc:0.789\n",
      "epoch:147, train acc:1.0, test acc:0.791\n",
      "epoch:148, train acc:1.0, test acc:0.7922\n",
      "epoch:149, train acc:1.0, test acc:0.7907\n",
      "epoch:150, train acc:1.0, test acc:0.7907\n",
      "epoch:151, train acc:1.0, test acc:0.7933\n",
      "epoch:152, train acc:1.0, test acc:0.7928\n",
      "epoch:153, train acc:1.0, test acc:0.7931\n",
      "epoch:154, train acc:1.0, test acc:0.7924\n",
      "epoch:155, train acc:1.0, test acc:0.7912\n",
      "epoch:156, train acc:1.0, test acc:0.7912\n",
      "epoch:157, train acc:1.0, test acc:0.7908\n",
      "epoch:158, train acc:1.0, test acc:0.7915\n",
      "epoch:159, train acc:1.0, test acc:0.7914\n",
      "epoch:160, train acc:1.0, test acc:0.7912\n",
      "epoch:161, train acc:1.0, test acc:0.791\n",
      "epoch:162, train acc:1.0, test acc:0.7923\n",
      "epoch:163, train acc:1.0, test acc:0.7908\n",
      "epoch:164, train acc:1.0, test acc:0.791\n",
      "epoch:165, train acc:1.0, test acc:0.7935\n",
      "epoch:166, train acc:1.0, test acc:0.7935\n",
      "epoch:167, train acc:1.0, test acc:0.7929\n",
      "epoch:168, train acc:1.0, test acc:0.7923\n",
      "epoch:169, train acc:1.0, test acc:0.7941\n",
      "epoch:170, train acc:1.0, test acc:0.7928\n",
      "epoch:171, train acc:1.0, test acc:0.7916\n",
      "epoch:172, train acc:1.0, test acc:0.7911\n",
      "epoch:173, train acc:1.0, test acc:0.7914\n",
      "epoch:174, train acc:1.0, test acc:0.7904\n",
      "epoch:175, train acc:1.0, test acc:0.7911\n",
      "epoch:176, train acc:1.0, test acc:0.7923\n",
      "epoch:177, train acc:1.0, test acc:0.7939\n",
      "epoch:178, train acc:1.0, test acc:0.7928\n",
      "epoch:179, train acc:1.0, test acc:0.7919\n",
      "epoch:180, train acc:1.0, test acc:0.794\n",
      "epoch:181, train acc:1.0, test acc:0.7924\n",
      "epoch:182, train acc:1.0, test acc:0.7917\n",
      "epoch:183, train acc:1.0, test acc:0.7938\n",
      "epoch:184, train acc:1.0, test acc:0.7914\n",
      "epoch:185, train acc:1.0, test acc:0.7933\n",
      "epoch:186, train acc:1.0, test acc:0.7933\n",
      "epoch:187, train acc:1.0, test acc:0.7922\n",
      "epoch:188, train acc:1.0, test acc:0.7921\n",
      "epoch:189, train acc:1.0, test acc:0.792\n",
      "epoch:190, train acc:1.0, test acc:0.7922\n",
      "epoch:191, train acc:1.0, test acc:0.7921\n",
      "epoch:192, train acc:1.0, test acc:0.7921\n"
     ]
    },
    {
     "name": "stdout",
     "output_type": "stream",
     "text": [
      "epoch:193, train acc:1.0, test acc:0.7911\n",
      "epoch:194, train acc:1.0, test acc:0.7919\n",
      "epoch:195, train acc:1.0, test acc:0.7919\n",
      "epoch:196, train acc:1.0, test acc:0.7906\n",
      "epoch:197, train acc:1.0, test acc:0.7917\n",
      "epoch:198, train acc:1.0, test acc:0.792\n",
      "epoch:199, train acc:1.0, test acc:0.7911\n",
      "epoch:200, train acc:1.0, test acc:0.7914\n"
     ]
    }
   ],
   "source": [
    "# 過学習を再現するために、学習データを削減\n",
    "x_train = x_train[:300]\n",
    "t_train = t_train[:300]\n",
    "\n",
    "# weight decay（荷重減衰）の設定\n",
    "weight_decay_lambda = 0 # weight decayを使用しない場合\n",
    "#weight_decay_lambda = 0.1\n",
    "\n",
    "network = MultiLayerNetExtend(input_size=784\n",
    "                              ,hidden_size_list=[100, 100, 100, 100, 100, 100]\n",
    "                              ,output_size=10\n",
    "                              ,use_batchnorm=True\n",
    "                              ,weight_decay_lambda=weight_decay_lambda)\n",
    "\n",
    "optimizer = Adam() # lr=0.001, beta1=0.9, beta2=0.99\n",
    "\n",
    "max_epochs = 201\n",
    "train_size = x_train.shape[0]\n",
    "batch_size = 100\n",
    "\n",
    "train_loss_list = []\n",
    "train_acc_list = []\n",
    "test_acc_list = []\n",
    "\n",
    "iter_per_epoch = max(train_size / batch_size, 1)\n",
    "epoch_cnt = 0\n",
    "\n",
    "for i in range(1000000000):\n",
    "    batch_mask = np.random.choice(train_size, batch_size)\n",
    "    x_batch = x_train[batch_mask]\n",
    "    t_batch = t_train[batch_mask]\n",
    "\n",
    "    grads = network.autoBackGradient(x_batch, t_batch)\n",
    "    optimizer.update(network.params, grads)\n",
    "\n",
    "    if i % iter_per_epoch == 0:\n",
    "        train_acc = network.accuracy(x_train, t_train)\n",
    "        test_acc = network.accuracy(x_test, t_test)\n",
    "        train_acc_list.append(train_acc)\n",
    "        test_acc_list.append(test_acc)\n",
    "\n",
    "        print(\"epoch:\" + str(epoch_cnt) + \", train acc:\" + str(train_acc) + \", test acc:\" + str(test_acc))\n",
    "\n",
    "        epoch_cnt += 1\n",
    "        if epoch_cnt >= max_epochs:\n",
    "            break"
   ]
  },
  {
   "cell_type": "code",
   "execution_count": 100,
   "metadata": {},
   "outputs": [
    {
     "data": {
      "image/png": "[encoded data removed]",
      "text/plain": [
       "<Figure size 432x288 with 1 Axes>"
      ]
     },
     "metadata": {
      "needs_background": "light"
     },
     "output_type": "display_data"
    }
   ],
   "source": [
    "# 3.グラフの描画==========\n",
    "markers = {'train': 'o', 'test': 's'}\n",
    "x = np.arange(max_epochs)\n",
    "plt.plot(x, train_acc_list, marker='o', label='train', markevery=10)\n",
    "plt.plot(x, test_acc_list, marker='s', label='test', markevery=10)\n",
    "plt.xlabel(\"epochs\")\n",
    "plt.ylabel(\"accuracy\")\n",
    "plt.ylim(0, 1.0)\n",
    "plt.legend(loc='lower right')\n",
    "plt.show()"
   ]
  },
  {
   "cell_type": "markdown",
   "metadata": {},
   "source": [
    "<img src=\"./深層学習_data/NeuralNetwork/スライド5.png\">"
   ]
  },
  {
   "cell_type": "markdown",
   "metadata": {},
   "source": [
    "# Dropout"
   ]
  },
  {
   "cell_type": "markdown",
   "metadata": {},
   "source": [
    "### 過学習の抑制手法"
   ]
  },
  {
   "cell_type": "markdown",
   "metadata": {},
   "source": [
    "学習時にデータが流れるたびにランダムにニューロン(Activation)に流れるデータを消去する  \n",
    "(ニューロンに0~1の乱数を与え, dropout_ratioより大きい値を通す)。  \n",
    "推論時にはニューロンに流れる信号に(1 - dropout_ratio)を掛けて伝達する。"
   ]
  },
  {
   "cell_type": "markdown",
   "metadata": {},
   "source": [
    "学習"
   ]
  },
  {
   "cell_type": "code",
   "execution_count": 124,
   "metadata": {},
   "outputs": [
    {
     "name": "stdout",
     "output_type": "stream",
     "text": [
      "epoch:0, train acc:0.12, test acc:0.1083\n",
      "epoch:1, train acc:0.08, test acc:0.0943\n",
      "epoch:2, train acc:0.09, test acc:0.0987\n",
      "epoch:3, train acc:0.095, test acc:0.1097\n",
      "epoch:4, train acc:0.135, test acc:0.1402\n",
      "epoch:5, train acc:0.225, test acc:0.2062\n",
      "epoch:6, train acc:0.255, test acc:0.236\n",
      "epoch:7, train acc:0.295, test acc:0.2553\n",
      "epoch:8, train acc:0.315, test acc:0.2571\n",
      "epoch:9, train acc:0.335, test acc:0.2923\n",
      "epoch:10, train acc:0.39, test acc:0.315\n",
      "epoch:11, train acc:0.435, test acc:0.3277\n",
      "epoch:12, train acc:0.415, test acc:0.3159\n",
      "epoch:13, train acc:0.42, test acc:0.3203\n",
      "epoch:14, train acc:0.39, test acc:0.3054\n",
      "epoch:15, train acc:0.42, test acc:0.3143\n",
      "epoch:16, train acc:0.46, test acc:0.3373\n",
      "epoch:17, train acc:0.465, test acc:0.3432\n",
      "epoch:18, train acc:0.48, test acc:0.3436\n",
      "epoch:19, train acc:0.485, test acc:0.345\n",
      "epoch:20, train acc:0.48, test acc:0.3416\n",
      "epoch:21, train acc:0.475, test acc:0.345\n",
      "epoch:22, train acc:0.425, test acc:0.3241\n",
      "epoch:23, train acc:0.47, test acc:0.3378\n",
      "epoch:24, train acc:0.49, test acc:0.3633\n",
      "epoch:25, train acc:0.53, test acc:0.3766\n",
      "epoch:26, train acc:0.53, test acc:0.374\n",
      "epoch:27, train acc:0.53, test acc:0.3851\n",
      "epoch:28, train acc:0.515, test acc:0.3717\n",
      "epoch:29, train acc:0.495, test acc:0.3599\n",
      "epoch:30, train acc:0.46, test acc:0.3412\n",
      "epoch:31, train acc:0.425, test acc:0.3279\n",
      "epoch:32, train acc:0.425, test acc:0.3251\n",
      "epoch:33, train acc:0.405, test acc:0.3099\n",
      "epoch:34, train acc:0.4, test acc:0.3006\n",
      "epoch:35, train acc:0.395, test acc:0.296\n",
      "epoch:36, train acc:0.415, test acc:0.301\n",
      "epoch:37, train acc:0.435, test acc:0.3116\n",
      "epoch:38, train acc:0.44, test acc:0.3178\n",
      "epoch:39, train acc:0.435, test acc:0.3271\n",
      "epoch:40, train acc:0.45, test acc:0.3307\n",
      "epoch:41, train acc:0.47, test acc:0.3349\n",
      "epoch:42, train acc:0.46, test acc:0.343\n",
      "epoch:43, train acc:0.475, test acc:0.3571\n",
      "epoch:44, train acc:0.505, test acc:0.3746\n",
      "epoch:45, train acc:0.53, test acc:0.3951\n",
      "epoch:46, train acc:0.54, test acc:0.4102\n",
      "epoch:47, train acc:0.55, test acc:0.4261\n",
      "epoch:48, train acc:0.555, test acc:0.4358\n",
      "epoch:49, train acc:0.57, test acc:0.4452\n",
      "epoch:50, train acc:0.58, test acc:0.4501\n",
      "epoch:51, train acc:0.585, test acc:0.4584\n",
      "epoch:52, train acc:0.59, test acc:0.4668\n",
      "epoch:53, train acc:0.595, test acc:0.4735\n",
      "epoch:54, train acc:0.615, test acc:0.475\n",
      "epoch:55, train acc:0.62, test acc:0.4744\n",
      "epoch:56, train acc:0.62, test acc:0.4748\n",
      "epoch:57, train acc:0.615, test acc:0.4693\n",
      "epoch:58, train acc:0.615, test acc:0.4682\n",
      "epoch:59, train acc:0.6, test acc:0.4628\n",
      "epoch:60, train acc:0.6, test acc:0.4639\n",
      "epoch:61, train acc:0.605, test acc:0.4661\n",
      "epoch:62, train acc:0.6, test acc:0.4656\n",
      "epoch:63, train acc:0.6, test acc:0.4635\n",
      "epoch:64, train acc:0.61, test acc:0.4614\n",
      "epoch:65, train acc:0.6, test acc:0.4591\n",
      "epoch:66, train acc:0.6, test acc:0.461\n",
      "epoch:67, train acc:0.6, test acc:0.4614\n",
      "epoch:68, train acc:0.6, test acc:0.4673\n",
      "epoch:69, train acc:0.59, test acc:0.4673\n",
      "epoch:70, train acc:0.58, test acc:0.465\n",
      "epoch:71, train acc:0.585, test acc:0.4643\n",
      "epoch:72, train acc:0.585, test acc:0.4649\n",
      "epoch:73, train acc:0.585, test acc:0.4632\n",
      "epoch:74, train acc:0.59, test acc:0.4615\n",
      "epoch:75, train acc:0.585, test acc:0.4577\n",
      "epoch:76, train acc:0.59, test acc:0.4564\n",
      "epoch:77, train acc:0.59, test acc:0.4573\n",
      "epoch:78, train acc:0.59, test acc:0.4578\n",
      "epoch:79, train acc:0.585, test acc:0.4601\n",
      "epoch:80, train acc:0.585, test acc:0.4622\n",
      "epoch:81, train acc:0.585, test acc:0.4639\n",
      "epoch:82, train acc:0.58, test acc:0.4654\n",
      "epoch:83, train acc:0.58, test acc:0.4652\n",
      "epoch:84, train acc:0.58, test acc:0.4652\n",
      "epoch:85, train acc:0.585, test acc:0.4689\n",
      "epoch:86, train acc:0.585, test acc:0.4712\n",
      "epoch:87, train acc:0.58, test acc:0.4726\n",
      "epoch:88, train acc:0.57, test acc:0.4707\n",
      "epoch:89, train acc:0.58, test acc:0.4748\n",
      "epoch:90, train acc:0.575, test acc:0.4759\n",
      "epoch:91, train acc:0.575, test acc:0.4775\n",
      "epoch:92, train acc:0.58, test acc:0.4801\n",
      "epoch:93, train acc:0.59, test acc:0.4813\n",
      "epoch:94, train acc:0.59, test acc:0.4797\n",
      "epoch:95, train acc:0.6, test acc:0.4839\n",
      "epoch:96, train acc:0.595, test acc:0.4847\n",
      "epoch:97, train acc:0.595, test acc:0.4844\n",
      "epoch:98, train acc:0.59, test acc:0.4844\n",
      "epoch:99, train acc:0.59, test acc:0.4837\n",
      "epoch:100, train acc:0.59, test acc:0.4839\n",
      "epoch:101, train acc:0.59, test acc:0.4828\n",
      "epoch:102, train acc:0.59, test acc:0.4822\n",
      "epoch:103, train acc:0.6, test acc:0.4844\n",
      "epoch:104, train acc:0.6, test acc:0.4837\n",
      "epoch:105, train acc:0.6, test acc:0.4838\n",
      "epoch:106, train acc:0.595, test acc:0.4821\n",
      "epoch:107, train acc:0.6, test acc:0.4826\n",
      "epoch:108, train acc:0.61, test acc:0.4819\n",
      "epoch:109, train acc:0.61, test acc:0.4809\n",
      "epoch:110, train acc:0.61, test acc:0.4781\n",
      "epoch:111, train acc:0.61, test acc:0.4805\n",
      "epoch:112, train acc:0.61, test acc:0.4806\n",
      "epoch:113, train acc:0.61, test acc:0.4786\n",
      "epoch:114, train acc:0.61, test acc:0.4812\n",
      "epoch:115, train acc:0.605, test acc:0.4814\n",
      "epoch:116, train acc:0.61, test acc:0.4831\n",
      "epoch:117, train acc:0.615, test acc:0.4878\n",
      "epoch:118, train acc:0.615, test acc:0.4897\n",
      "epoch:119, train acc:0.615, test acc:0.4898\n",
      "epoch:120, train acc:0.62, test acc:0.4916\n",
      "epoch:121, train acc:0.615, test acc:0.4927\n",
      "epoch:122, train acc:0.615, test acc:0.4924\n",
      "epoch:123, train acc:0.615, test acc:0.4929\n",
      "epoch:124, train acc:0.615, test acc:0.4927\n",
      "epoch:125, train acc:0.615, test acc:0.4929\n",
      "epoch:126, train acc:0.615, test acc:0.4949\n",
      "epoch:127, train acc:0.615, test acc:0.4978\n",
      "epoch:128, train acc:0.61, test acc:0.4958\n",
      "epoch:129, train acc:0.605, test acc:0.4949\n",
      "epoch:130, train acc:0.605, test acc:0.4947\n",
      "epoch:131, train acc:0.61, test acc:0.492\n",
      "epoch:132, train acc:0.615, test acc:0.4951\n",
      "epoch:133, train acc:0.615, test acc:0.4955\n",
      "epoch:134, train acc:0.63, test acc:0.4983\n",
      "epoch:135, train acc:0.625, test acc:0.499\n",
      "epoch:136, train acc:0.625, test acc:0.4999\n",
      "epoch:137, train acc:0.63, test acc:0.5039\n",
      "epoch:138, train acc:0.635, test acc:0.5058\n",
      "epoch:139, train acc:0.63, test acc:0.5044\n",
      "epoch:140, train acc:0.63, test acc:0.5053\n",
      "epoch:141, train acc:0.63, test acc:0.5075\n",
      "epoch:142, train acc:0.635, test acc:0.5036\n",
      "epoch:143, train acc:0.635, test acc:0.5018\n",
      "epoch:144, train acc:0.63, test acc:0.5038\n",
      "epoch:145, train acc:0.63, test acc:0.5039\n",
      "epoch:146, train acc:0.63, test acc:0.5034\n",
      "epoch:147, train acc:0.63, test acc:0.5035\n",
      "epoch:148, train acc:0.63, test acc:0.5035\n",
      "epoch:149, train acc:0.63, test acc:0.5045\n",
      "epoch:150, train acc:0.63, test acc:0.5064\n",
      "epoch:151, train acc:0.635, test acc:0.51\n",
      "epoch:152, train acc:0.635, test acc:0.5103\n",
      "epoch:153, train acc:0.635, test acc:0.5102\n",
      "epoch:154, train acc:0.635, test acc:0.5094\n",
      "epoch:155, train acc:0.64, test acc:0.5077\n",
      "epoch:156, train acc:0.645, test acc:0.5067\n",
      "epoch:157, train acc:0.65, test acc:0.5073\n",
      "epoch:158, train acc:0.645, test acc:0.5089\n",
      "epoch:159, train acc:0.645, test acc:0.5089\n",
      "epoch:160, train acc:0.645, test acc:0.5084\n",
      "epoch:161, train acc:0.645, test acc:0.5086\n",
      "epoch:162, train acc:0.64, test acc:0.5079\n",
      "epoch:163, train acc:0.645, test acc:0.5092\n",
      "epoch:164, train acc:0.64, test acc:0.5106\n",
      "epoch:165, train acc:0.64, test acc:0.5103\n",
      "epoch:166, train acc:0.645, test acc:0.5123\n",
      "epoch:167, train acc:0.645, test acc:0.5117\n",
      "epoch:168, train acc:0.645, test acc:0.5145\n",
      "epoch:169, train acc:0.65, test acc:0.5186\n",
      "epoch:170, train acc:0.65, test acc:0.5192\n",
      "epoch:171, train acc:0.64, test acc:0.5176\n",
      "epoch:172, train acc:0.645, test acc:0.5185\n",
      "epoch:173, train acc:0.645, test acc:0.5179\n",
      "epoch:174, train acc:0.64, test acc:0.5165\n",
      "epoch:175, train acc:0.645, test acc:0.5147\n",
      "epoch:176, train acc:0.645, test acc:0.51\n",
      "epoch:177, train acc:0.64, test acc:0.5024\n",
      "epoch:178, train acc:0.64, test acc:0.5013\n",
      "epoch:179, train acc:0.64, test acc:0.5056\n",
      "epoch:180, train acc:0.64, test acc:0.5134\n",
      "epoch:181, train acc:0.645, test acc:0.5151\n",
      "epoch:182, train acc:0.645, test acc:0.5154\n",
      "epoch:183, train acc:0.65, test acc:0.5203\n",
      "epoch:184, train acc:0.645, test acc:0.5214\n",
      "epoch:185, train acc:0.645, test acc:0.5215\n",
      "epoch:186, train acc:0.655, test acc:0.5242\n",
      "epoch:187, train acc:0.655, test acc:0.5256\n",
      "epoch:188, train acc:0.645, test acc:0.5235\n",
      "epoch:189, train acc:0.65, test acc:0.5221\n",
      "epoch:190, train acc:0.65, test acc:0.5229\n",
      "epoch:191, train acc:0.655, test acc:0.5262\n"
     ]
    },
    {
     "name": "stdout",
     "output_type": "stream",
     "text": [
      "epoch:192, train acc:0.66, test acc:0.527\n",
      "epoch:193, train acc:0.655, test acc:0.5278\n",
      "epoch:194, train acc:0.66, test acc:0.5274\n",
      "epoch:195, train acc:0.665, test acc:0.5271\n",
      "epoch:196, train acc:0.67, test acc:0.5295\n",
      "epoch:197, train acc:0.675, test acc:0.53\n",
      "epoch:198, train acc:0.67, test acc:0.528\n",
      "epoch:199, train acc:0.68, test acc:0.5271\n",
      "epoch:200, train acc:0.665, test acc:0.5207\n"
     ]
    }
   ],
   "source": [
    "# 過学習を再現するために、学習データを削減\n",
    "x_train = x_train[:300]\n",
    "t_train = t_train[:300]\n",
    "\n",
    "# Dropoutの設定\n",
    "use_dropout = True\n",
    "#use_dropout = False\n",
    "dropout_ratio = 0.4 #0.9 #0.8 #0.7 #0.6 #0.5\n",
    "\n",
    "network = MultiLayerNetExtend(input_size=784\n",
    "                              ,hidden_size_list=[100, 100, 100, 100, 100, 100]\n",
    "                              ,output_size=10\n",
    "                              ,use_batchnorm=True\n",
    "                              ,use_dropout=use_dropout)\n",
    "\n",
    "optimizer = Adam() # lr=0.001, beta1=0.9, beta2=0.99\n",
    "\n",
    "max_epochs = 201\n",
    "train_size = x_train.shape[0]\n",
    "batch_size = 100\n",
    "\n",
    "train_loss_list = []\n",
    "train_acc_list = []\n",
    "test_acc_list = []\n",
    "\n",
    "iter_per_epoch = max(train_size / batch_size, 1)\n",
    "epoch_cnt = 0\n",
    "\n",
    "for i in range(1000000000):\n",
    "    batch_mask = np.random.choice(train_size, batch_size)\n",
    "    x_batch = x_train[batch_mask]\n",
    "    t_batch = t_train[batch_mask]\n",
    "\n",
    "    grads = network.autoBackGradient(x_batch, t_batch)\n",
    "    optimizer.update(network.params, grads)\n",
    "\n",
    "    if i % iter_per_epoch == 0:\n",
    "        train_acc = network.accuracy(x_train, t_train)\n",
    "        test_acc = network.accuracy(x_test, t_test)\n",
    "        train_acc_list.append(train_acc)\n",
    "        test_acc_list.append(test_acc)\n",
    "\n",
    "        print(\"epoch:\" + str(epoch_cnt) + \", train acc:\" + str(train_acc) + \", test acc:\" + str(test_acc))\n",
    "\n",
    "        epoch_cnt += 1\n",
    "        if epoch_cnt >= max_epochs:\n",
    "            break"
   ]
  },
  {
   "cell_type": "code",
   "execution_count": 125,
   "metadata": {},
   "outputs": [
    {
     "data": {
      "image/png": "[encoded data removed]",
      "text/plain": [
       "<Figure size 432x288 with 1 Axes>"
      ]
     },
     "metadata": {
      "needs_background": "light"
     },
     "output_type": "display_data"
    }
   ],
   "source": [
    "# 3.グラフの描画==========\n",
    "markers = {'train': 'o', 'test': 's'}\n",
    "x = np.arange(max_epochs)\n",
    "plt.plot(x, train_acc_list, marker='o', label='train', markevery=10)\n",
    "plt.plot(x, test_acc_list, marker='s', label='test', markevery=10)\n",
    "plt.xlabel(\"epochs\")\n",
    "plt.ylabel(\"accuracy\")\n",
    "plt.ylim(0, 1.0)\n",
    "plt.legend(loc='lower right')\n",
    "plt.show()"
   ]
  },
  {
   "cell_type": "markdown",
   "metadata": {},
   "source": [
    "<img src=\"./深層学習_data/NeuralNetwork/スライド6.png\">"
   ]
  },
  {
   "cell_type": "markdown",
   "metadata": {},
   "source": [
    "<img src=\"./深層学習_data/NeuralNetwork/スライド7.png\">"
   ]
  },
  {
   "cell_type": "markdown",
   "metadata": {},
   "source": [
    "# CNN  \n",
    "1. 畳み込み演算\n",
    "2. img2col, col2img\n",
    "3. Pooling(サブサンプリング)"
   ]
  },
  {
   "cell_type": "markdown",
   "metadata": {},
   "source": [
    "### 畳み込み演算"
   ]
  },
  {
   "cell_type": "markdown",
   "metadata": {},
   "source": [
    "1次元配列の離散畳み込み演算"
   ]
  },
  {
   "cell_type": "markdown",
   "metadata": {},
   "source": [
    "$\\boldsymbol{x}$　入力シグナル  \n",
    "$\\boldsymbol{w}$　フィルタ(カーネル)  \n",
    "$$\n",
    "\\begin{align}\n",
    "    \\boldsymbol{y} &= \\boldsymbol{x} \\ast \\boldsymbol{w} = \\sum_{-\\infty}^{+\\infty}\\boldsymbol{x}[i-k]\\boldsymbol{w}[k] \\\\\n",
    "\\end{align}\n",
    "$$\n",
    "$$\n",
    "    \\boldsymbol{y}[i] = \\sum_{k=0}^{m-1}\\boldsymbol{x}^{p}[i+m-k]\\boldsymbol{w}[k]\n",
    "$$"
   ]
  },
  {
   "cell_type": "markdown",
   "metadata": {},
   "source": [
    "<img src=\"./深層学習_data/NeuralNetwork/スライド8.png\">"
   ]
  },
  {
   "cell_type": "markdown",
   "metadata": {},
   "source": [
    "<img src=\"./深層学習_data/NeuralNetwork/スライド9.png\">"
   ]
  },
  {
   "cell_type": "markdown",
   "metadata": {},
   "source": [
    "<img src=\"./深層学習_data/NeuralNetwork/スライド10.png\">"
   ]
  },
  {
   "cell_type": "markdown",
   "metadata": {},
   "source": [
    "<img src=\"./深層学習_data/NeuralNetwork/スライド11.png\">"
   ]
  },
  {
   "cell_type": "markdown",
   "metadata": {},
   "source": [
    "1次元配列または2次元配列信号の畳み込みは、フィルタを転置してからスライディング・ウィンドウ方式で積和を取れば良い。"
   ]
  },
  {
   "cell_type": "markdown",
   "metadata": {},
   "source": [
    "1次元配列畳み込み 実装"
   ]
  },
  {
   "cell_type": "code",
   "execution_count": 1,
   "metadata": {},
   "outputs": [],
   "source": [
    "import numpy as np\n",
    "\n",
    "def conv1d(x, w, p=0, s=1):\n",
    "    w_rot = np.array(w[::-1])\n",
    "    x_padded = np.array(x)\n",
    "    if p > 0:\n",
    "        x_padded = np.pad(x_padded, (p,p), 'constant')\n",
    "    res = []\n",
    "    for i in range(0, int(len(x)/s),s):\n",
    "        res.append(np.sum(x_padded[i:i + w_rot.shape[0]]*w_rot))\n",
    "    return np.array(res)\n",
    "\n",
    "# テスト\n",
    "x = [1,3,2,4,5,6,1,3]\n",
    "w = [1,0,3,1,2]"
   ]
  },
  {
   "cell_type": "code",
   "execution_count": 2,
   "metadata": {},
   "outputs": [
    {
     "data": {
      "text/plain": [
       "array([ 5, 14, 16, 26, 24, 34, 19, 22])"
      ]
     },
     "execution_count": 2,
     "metadata": {},
     "output_type": "execute_result"
    }
   ],
   "source": [
    "conv1d(x, w, p=2, s=1)"
   ]
  },
  {
   "cell_type": "code",
   "execution_count": 3,
   "metadata": {},
   "outputs": [
    {
     "data": {
      "text/plain": [
       "array([ 5, 14, 16, 26, 24, 34, 19, 22])"
      ]
     },
     "execution_count": 3,
     "metadata": {},
     "output_type": "execute_result"
    }
   ],
   "source": [
    "np.convolve(x, w, mode='same') # 畳み込み出力ベクトルの要素数が入力ベクトルと同じになるようにpaddingを行う"
   ]
  },
  {
   "cell_type": "markdown",
   "metadata": {},
   "source": [
    "2次元配列畳み込み 実装"
   ]
  },
  {
   "cell_type": "code",
   "execution_count": 4,
   "metadata": {},
   "outputs": [],
   "source": [
    "import scipy.signal\n",
    "\n",
    "def conv2d(X, W, p=(0,0), s=(1,1)):\n",
    "    W_rot = np.array(W)[::-1,::-1]\n",
    "    X_orig = np.array(X)\n",
    "    X_padded = np.pad(X_orig, [(p[0],p[0]), (p[1],p[1])], \"constant\")\n",
    "    res = []\n",
    "    simax = (X_padded.shape[0]  - W_rot.shape[0]) // s[0] + 1\n",
    "    sjmax = (X_padded.shape[1]  - W_rot.shape[1]) // s[1] + 1\n",
    "    for i in range(0,simax,s[0]):\n",
    "        res.append([])\n",
    "        for j in range(0,sjmax,s[1]):\n",
    "            X_sub = X_padded[i:i + W_rot.shape[0], j:j + W_rot.shape[1]]\n",
    "            res[-1].append(np.sum(X_sub*W_rot))\n",
    "    return np.array(res)\n",
    "\n",
    "# テスト\n",
    "X = [[1,3,2,4], [5,6,1,3], [1,2,0,2], [3,4,3,2]]\n",
    "W = [[1,0,3], [1,2,1], [0,1,1]]"
   ]
  },
  {
   "cell_type": "code",
   "execution_count": 5,
   "metadata": {},
   "outputs": [
    {
     "data": {
      "text/plain": [
       "array([[11, 25, 32, 13],\n",
       "       [19, 25, 24, 13],\n",
       "       [13, 28, 25, 17],\n",
       "       [11, 17, 14,  9]])"
      ]
     },
     "execution_count": 5,
     "metadata": {},
     "output_type": "execute_result"
    }
   ],
   "source": [
    "conv2d(X,W,p=(1,1),s=(1,1))"
   ]
  },
  {
   "cell_type": "code",
   "execution_count": 6,
   "metadata": {
    "scrolled": true
   },
   "outputs": [
    {
     "data": {
      "text/plain": [
       "array([[11, 25, 32, 13],\n",
       "       [19, 25, 24, 13],\n",
       "       [13, 28, 25, 17],\n",
       "       [11, 17, 14,  9]])"
      ]
     },
     "execution_count": 6,
     "metadata": {},
     "output_type": "execute_result"
    }
   ],
   "source": [
    "scipy.signal.convolve2d(X,W,mode='same')"
   ]
  },
  {
   "cell_type": "markdown",
   "metadata": {},
   "source": [
    "<img src=\"./深層学習_data/NeuralNetwork/スライド12.png\">"
   ]
  },
  {
   "cell_type": "markdown",
   "metadata": {},
   "source": [
    "<img src=\"./深層学習_data/NeuralNetwork/スライド13.png\">"
   ]
  },
  {
   "cell_type": "markdown",
   "metadata": {},
   "source": [
    "<img src=\"./深層学習_data/NeuralNetwork/スライド14.png\">"
   ]
  },
  {
   "cell_type": "markdown",
   "metadata": {},
   "source": [
    "img2col実装→ギブアップしてコピペ"
   ]
  },
  {
   "cell_type": "code",
   "execution_count": 1,
   "metadata": {},
   "outputs": [],
   "source": [
    "def img2col(input_data, filter_h, filter_w, stride=1, pad=0):\n",
    "    \"\"\"\n",
    "    Parameters\n",
    "    ----------\n",
    "    input_data : (データ数, チャンネル, 高さ, 幅)の4次元配列からなる入力データ\n",
    "    filter_h : フィルターの高さ\n",
    "    filter_w : フィルターの幅\n",
    "    stride : ストライド\n",
    "    pad : パディング\n",
    "    Returns\n",
    "    -------\n",
    "    col : 2次元配列\n",
    "    \"\"\"\n",
    "    N, C, H, W = input_data.shape\n",
    "    out_h = (H + 2*pad - filter_h)//stride + 1\n",
    "    out_w = (W + 2*pad - filter_w)//stride + 1\n",
    "\n",
    "    img = np.pad(input_data, [(0,0), (0,0), (pad, pad), (pad, pad)], 'constant')\n",
    "    col = np.zeros((N, C, filter_h, filter_w, out_h, out_w))\n",
    "\n",
    "    for y in range(filter_h):\n",
    "        y_max = y + stride*out_h\n",
    "        for x in range(filter_w):\n",
    "            x_max = x + stride*out_w\n",
    "            col[:, :, y, x, :, :] = img[:, :, y:y_max:stride, x:x_max:stride]\n",
    "\n",
    "    col = col.transpose(0, 4, 5, 1, 2, 3).reshape(N*out_h*out_w, -1)\n",
    "    return col"
   ]
  },
  {
   "cell_type": "markdown",
   "metadata": {},
   "source": [
    "col2img実装→ギブアップしてコピペ"
   ]
  },
  {
   "cell_type": "code",
   "execution_count": 2,
   "metadata": {},
   "outputs": [],
   "source": [
    "def col2img(col, input_shape, filter_h, filter_w, stride=1, pad=0):\n",
    "    \"\"\"\n",
    "    Parameters\n",
    "    ----------\n",
    "    col :\n",
    "    input_shape : 入力データの形状（例：(10, 1, 28, 28)）\n",
    "    filter_h :\n",
    "    filter_w\n",
    "    stride\n",
    "    pad\n",
    "    Returns\n",
    "    -------\n",
    "    \"\"\"\n",
    "    N, C, H, W = input_shape\n",
    "    out_h = (H + 2*pad - filter_h)//stride + 1\n",
    "    out_w = (W + 2*pad - filter_w)//stride + 1\n",
    "    col = col.reshape(N, out_h, out_w, C, filter_h, filter_w).transpose(0, 3, 4, 5, 1, 2)\n",
    "\n",
    "    img = np.zeros((N, C, H + 2*pad + stride - 1, W + 2*pad + stride - 1))\n",
    "    for y in range(filter_h):\n",
    "        y_max = y + stride*out_h\n",
    "        for x in range(filter_w):\n",
    "            x_max = x + stride*out_w\n",
    "            img[:, :, y:y_max:stride, x:x_max:stride] += col[:, :, y, x, :, :]\n",
    "\n",
    "    return img[:, :, pad:H + pad, pad:W + pad]"
   ]
  },
  {
   "cell_type": "markdown",
   "metadata": {},
   "source": [
    "畳み込み層"
   ]
  },
  {
   "cell_type": "code",
   "execution_count": 4,
   "metadata": {},
   "outputs": [],
   "source": [
    "class Convolution:\n",
    "    def __init(self, W, b, stride=1, pad=0):\n",
    "        self.W = W\n",
    "        self.b = b\n",
    "        self.stride = stride\n",
    "        self.pad = pad\n",
    "        \n",
    "        # 中間データ(backward時に使用)\n",
    "        self.x = None\n",
    "        self.col = None\n",
    "        self.col_W = None\n",
    "        \n",
    "        # 重み・バイアスパラメータの勾配\n",
    "        self.dW = None\n",
    "        self.db = None\n",
    "        \n",
    "    def forward(self, x):\n",
    "        FN, C, FH, FW = self.W.shape\n",
    "        N, C, H, W = x.shape\n",
    "        out_h = 1 + int((H + 2*self.pad - FH) / self.stride)\n",
    "        out_w = 1 + int((W + 2*self.pad - FW) / self.stride)\n",
    "        \n",
    "        col = img2col(x, FH, FW, self.stride, self.pad)\n",
    "        col_W = self.W.reshape(FN, -1).T\n",
    "        \n",
    "        out = np.dot(col, col_W) + self.b\n",
    "        out = out.reshape(N, out_h, out_w, -1).transpose(0, 3, 1, 2)\n",
    "        \n",
    "        self.x = x\n",
    "        self.col = col\n",
    "        self.col_W = col_W\n",
    "        \n",
    "        return out\n",
    "    \n",
    "    \n",
    "    def backward(self, dout):\n",
    "        FN, C, FH, FW = self.W.shape\n",
    "        dout = dout.transpose(0,2,3,1).reshape(-1,FN)\n",
    "        \n",
    "        self.db = np.sum(dout, axis=0)\n",
    "        self.dW = np.dot(self.col.T, dout)\n",
    "        self.dW = self.dW.transpose(1, 0).reshape(FN, C, FH, FW)\n",
    "        \n",
    "        dcol = np.dot(dout, self.col_W.T)\n",
    "        dx = col2im(dcol, self.x.shape, FH, FW, self.stride, self.pad)\n",
    "        \n",
    "        return dx"
   ]
  },
  {
   "cell_type": "markdown",
   "metadata": {},
   "source": [
    "Pooling層"
   ]
  },
  {
   "cell_type": "code",
   "execution_count": 8,
   "metadata": {},
   "outputs": [],
   "source": [
    "class Pooling:\n",
    "    def __init__(self, pool_h, pool_w, stride=1, pad=0):\n",
    "        self.pool_h = pool_h\n",
    "        self.pool_w = pool_w\n",
    "        self.stride = stride\n",
    "        self.pad = pad\n",
    "        \n",
    "        self.x = None\n",
    "        self.arg_max = None\n",
    "\n",
    "    def forward(self, x):\n",
    "        N, C, H, W = x.shape\n",
    "        out_h = int(1 + (H - self.pool_h) / self.stride)\n",
    "        out_w = int(1 + (W - self.pool_w) / self.stride)\n",
    "\n",
    "        col = im2col(x, self.pool_h, self.pool_w, self.stride, self.pad)\n",
    "        col = col.reshape(-1, self.pool_h*self.pool_w)\n",
    "\n",
    "        arg_max = np.argmax(col, axis=1)\n",
    "        out = np.max(col, axis=1)\n",
    "        out = out.reshape(N, out_h, out_w, C).transpose(0, 3, 1, 2)\n",
    "\n",
    "        self.x = x\n",
    "        self.arg_max = arg_max\n",
    "\n",
    "        return out\n",
    "\n",
    "    def backward(self, dout):\n",
    "        dout = dout.transpose(0, 2, 3, 1)\n",
    "        \n",
    "        pool_size = self.pool_h * self.pool_w\n",
    "        dmax = np.zeros((dout.size, pool_size))\n",
    "        dmax[np.arange(self.arg_max.size), self.arg_max.flatten()] = dout.flatten()\n",
    "        dmax = dmax.reshape(dout.shape + (pool_size,)) \n",
    "        \n",
    "        dcol = dmax.reshape(dmax.shape[0] * dmax.shape[1] * dmax.shape[2], -1)\n",
    "        dx = col2im(dcol, self.x.shape, self.pool_h, self.pool_w, self.stride, self.pad)\n",
    "        \n",
    "        return dx"
   ]
  },
  {
   "cell_type": "markdown",
   "metadata": {},
   "source": [
    "Simple Conv Net"
   ]
  },
  {
   "cell_type": "code",
   "execution_count": null,
   "metadata": {},
   "outputs": [],
   "source": [
    "class SimpleConvNet:\n",
    "    \"\"\"単純なConvNet\n",
    "    \n",
    "    conv - relu - pool - affine - relu - affine -softmax\n",
    "    \n",
    "    \"\"\"\n",
    "    \n",
    "    def __init(self\n",
    "              ,input_dim=(1,28,28)\n",
    "              ,conv_param={'filter_num':30, 'filter_size':5, 'pad':0, 'stride':1}\n",
    "              ,hidden_size=100\n",
    "              ,output_size=10\n",
    "              ,weight_init_std=0.01):\n",
    "        \n",
    "        filter_num = conv_param['filter_num']\n",
    "        filter_size = conv_param['filter_size']\n",
    "        filter_pad = conv_param['pad']\n",
    "        filter_stride = conv_param['stride']\n",
    "        input_size = input_dim[1]\n",
    "        conv_output_size = (input_size - filter_size + 2*filter_pad) / filter_stride + 1\n",
    "        pool_output_size = int(filter_num*(conv_output_size / 2)*(conv_output_size / 2))\n",
    "        \n",
    "        # 重みの初期化\n",
    "        self.params = {}\n",
    "        self.params['W1'] = weight_init_std*np.random.randn(filter_num\n",
    "                                                            ,input_dim[0]\n",
    "                                                            ,filter_size\n",
    "                                                            ,filter_size)\n",
    "        self.params['b1'] = np.zeros(filter_num)\n",
    "        self.params['W2'] = weight_init_std*np.random.randn(pool_output_size\n",
    "                                                            ,hidden_size)\n",
    "        self.params['b2'] = np.zeros(hidden_size)\n",
    "        self.params['W3'] = weight_init_std*np.random.randn(hidden_size\n",
    "                                                           ,output_size)\n",
    "        self.params['b3'] = np.zeros(output_size)\n",
    "        \n",
    "        # レイヤの生成\n",
    "        self.layers = OrderDict()\n",
    "        self.layers['Conv1'] = Convolution(self.params['W1']\n",
    "                                          ,self.params['b1']\n",
    "                                          ,conv_param['stride']\n",
    "                                          ,conv_param['pad'])\n",
    "        self.layers['Relu1'] = Relu()\n",
    "        self.layers['Pool1'] = Pooling(pool_h=2\n",
    "                                       ,pool_w=2\n",
    "                                       ,stride=2)\n",
    "        self.layers['Affine1'] = Affine(self.params['W2']\n",
    "                                        ,self.params['b2'])\n",
    "        self.layers['Relu2'] = Relu()\n",
    "        self.layers['Affine2'] = Affine(self.params['W3']\n",
    "                                       ,self.params['b3'])\n",
    "        self.last_layer = SoftmaxWithLoss()\n",
    "        \n",
    "    def predict(self, X):\n",
    "        for layer in self.layers.value():\n",
    "            X = layer.forward(X)\n",
    "            \n",
    "        return X\n",
    "    \n",
    "    def loss(self, X, t):\n",
    "        y = self.predict(X)\n",
    "        return self.last_layer.forward(y,t)\n",
    "    \n",
    "    def accuracy(self, X, t, batch_size=100):\n",
    "        if t.ndim != 1:\n",
    "            t = np.argmax(t, axis=1)\n",
    "            \n",
    "        acc = 0.0\n",
    "        \n",
    "        for i in range(int(X.shape[0] / batch_size)):\n",
    "            tx = X[i*batch_size:(i+1)*batch_size]\n",
    "            tt = t[i*batch_size:(i+1)*batch_size]\n",
    "            y = self.predict(tx)\n",
    "            y = np.argmax(y, axis=1)\n",
    "            acc += np.sum(y == tt)\n",
    "            \n",
    "        return acc / X.shape[0]\n",
    "    \n",
    "    def numerialGradient(self, X, t):\n",
    "        loss_w = lambda w: self.loss(X, t)\n",
    "        \n",
    "        grads = {}\n",
    "        for idx in (1,2,3):\n",
    "            grads['W' + str(idx)] = numerical_gradient(loss_w, self.params['W' + str(idx)])\n",
    "            grads['b' + str(idx)] = numerical_gradient(loss_w, self.params['b' + str(idx)])\n",
    "            \n",
    "        return grads\n",
    "    \n",
    "    def autobackGradient(self, X, t):\n",
    "        # forward\n",
    "        self.loss(X,t)\n",
    "        \n",
    "        # backward\n",
    "        dout = 1\n",
    "        dout = self.last_layer.backward(dout)\n",
    "        layers = list(self.layers.values())\n",
    "        layers.reverse()\n",
    "        for layer in layers:\n",
    "            dout = layer.backward(dout)\n",
    "        \n",
    "        # 設定\n",
    "        grads = {}\n",
    "        grads['W1'], grads['b1'] = self.layers['Conv1'].dW, \n",
    "        \n",
    "            "
   ]
  },
  {
   "cell_type": "markdown",
   "metadata": {},
   "source": [
    "Deep Conv Net"
   ]
  },
  {
   "cell_type": "code",
   "execution_count": null,
   "metadata": {},
   "outputs": [],
   "source": [
    "class DeepConvNet:\n",
    "    \"\"\"MNIST認識率99%以上の高精度なConvNet\n",
    "    \n",
    "    ネットワーク構成\n",
    "    conv - relu - conv - relu - pool -\n",
    "    conv - relu - conv - relu - pool -\n",
    "    conv - relu - conv - relu - pool -\n",
    "    affine - relu - dropout - affine -dropout -softmax\n",
    "    \"\"\"\n",
    "    \n",
    "    def __init__(self \n",
    "                 ,intput_dim=(1, 28, 28)\n",
    "                 ,conv_param_1 = {'filter_num':16, 'filter_size':3, 'pad':1, 'stride':1}\n",
    "                 ,conv_param_2 = {'filter_num':16, 'filter_size':3, 'pad':1, 'stride':1}\n",
    "                 ,conv_param_3 = {'filter_num':32, 'filter_size':3, 'pad':1, 'stride':1}\n",
    "                 ,conv_param_4 = {'filter_num':32, 'filter_size':3, 'pad':1, 'stride':1}\n",
    "                 ,conv_param_5 = {'filter_num':64, 'filter_size':3, 'pad':1, 'stride':1}\n",
    "                 ,conv_param_6 = {'filter_num':64, 'filter_size':3, 'pad':1, 'stride':1}\n",
    "                 ,hidden_size=50\n",
    "                 ,outputsize_10):\n",
    "        \n",
    "        \n",
    "    \n",
    "    "
   ]
  }
 ],
 "metadata": {
  "kernelspec": {
   "display_name": "Python 3",
   "language": "python",
   "name": "python3"
  },
  "language_info": {
   "codemirror_mode": {
    "name": "ipython",
    "version": 3
   },
   "file_extension": ".py",
   "mimetype": "text/x-python",
   "name": "python",
   "nbconvert_exporter": "python",
   "pygments_lexer": "ipython3",
   "version": "3.6.8"
  }
 },
 "nbformat": 4,
 "nbformat_minor": 2
}
