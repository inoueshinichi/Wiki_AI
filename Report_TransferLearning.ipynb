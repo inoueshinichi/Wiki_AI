{
 "cells": [
  {
   "attachments": {},
   "cell_type": "markdown",
   "metadata": {},
   "source": [
    "# 転移学習"
   ]
  },
  {
   "attachments": {},
   "cell_type": "markdown",
   "metadata": {},
   "source": [
    "### いつもの設定"
   ]
  },
  {
   "cell_type": "code",
   "execution_count": 1,
   "metadata": {},
   "outputs": [],
   "source": [
    "from type_hint import *\n",
    "from import_str import importstr\n",
    "from log_conf import logging\n",
    "log = logging.getLogger('nb')\n",
    "\n",
    "# log.setLevel(logging.WARN)\n",
    "log.setLevel(logging.INFO)\n",
    "log.setLevel(logging.DEBUG)\n",
    "\n",
    "# running everything app\n",
    "def run(app, *argv):\n",
    "    argv = list(argv)\n",
    "    log.info('Running: {}({!r}).main()'.format(app, argv))\n",
    "    print(\"*app.rsplit('.', 1) : \", *app.rsplit('.', 1))\n",
    "\n",
    "    app_cls = importstr(*app.rsplit('.', 1)) # __import__を実行\n",
    "    app_cls(argv).main()\n",
    "\n",
    "    log.info(\"Finished: {}.({!r}).main()\".format(app, argv))"
   ]
  },
  {
   "attachments": {},
   "cell_type": "markdown",
   "metadata": {},
   "source": [
    "### 画像前処理動作を確認"
   ]
  },
  {
   "cell_type": "code",
   "execution_count": 2,
   "metadata": {},
   "outputs": [],
   "source": [
    "# run('TransferLearing.preprocess.PreprocessImageApp')"
   ]
  },
  {
   "attachments": {},
   "cell_type": "markdown",
   "metadata": {},
   "source": [
    "### 転移先のアリとハチを分類するためのデータセット"
   ]
  },
  {
   "cell_type": "code",
   "execution_count": 3,
   "metadata": {},
   "outputs": [],
   "source": [
    "# run('TransferLearing.ant_bee_dataset.HymenopteraDatasetApp')"
   ]
  },
  {
   "attachments": {},
   "cell_type": "markdown",
   "metadata": {},
   "source": [
    "### 転移学習(FineTune)による学習と検証"
   ]
  },
  {
   "cell_type": "code",
   "execution_count": 4,
   "metadata": {},
   "outputs": [
    {
     "name": "stderr",
     "output_type": "stream",
     "text": [
      "2023-06-23 21:02:51,918 INFO     pid:5309 nb:013:run Running: TransferLearing.transfer_learning.TransferLearningApp(['--batch-size=32', '--epochs=2', '--finetune=pretrained', '--finetune-depth=1']).main()\n"
     ]
    },
    {
     "name": "stdout",
     "output_type": "stream",
     "text": [
      "*app.rsplit('.', 1) :  TransferLearing.transfer_learning TransferLearningApp\n"
     ]
    },
    {
     "name": "stderr",
     "output_type": "stream",
     "text": [
      "/Users/inoueshinichi/opt/anaconda3/envs/Py38WorkEnv/lib/python3.8/site-packages/torchvision/models/_utils.py:208: UserWarning: The parameter 'pretrained' is deprecated since 0.13 and may be removed in the future, please use 'weights' instead.\n",
      "  warnings.warn(\n",
      "/Users/inoueshinichi/opt/anaconda3/envs/Py38WorkEnv/lib/python3.8/site-packages/torchvision/models/_utils.py:223: UserWarning: Arguments other than a weight enum or `None` for 'weights' are deprecated since 0.13 and may be removed in the future. The current behavior is equivalent to passing `weights=VGG16_Weights.IMAGENET1K_V1`. You can also use `weights=VGG16_Weights.DEFAULT` to get the most up-to-date weights.\n",
      "  warnings.warn(msg)\n",
      "2023-06-23 21:02:57,387 INFO     pid:5309 TransferLearing.transfer_learning:168:init_model finetuning from pretrained, blocks classifier\n",
      "2023-06-23 21:02:57,395 INFO     pid:5309 TransferLearing.transfer_learning:363:main Starting TransferLearningApp, Namespace(batch_size=32, comment='dwlpt', epochs=2, finetune='pretrained', finetune_depth=1, num_workers=4, save_modeldir='models', seed=1234, tb_logdir='runs', tb_prefix='hymenoptera', threshold=0.5)\n",
      "2023-06-23 21:02:57,396 INFO     pid:5309 TransferLearing.transfer_learning:374:main Epoch 1 of 2, [trn]8/[val]5 batches of size 32*1\n",
      "2023-06-23 21:02:57,397 WARNING  pid:5309 enum_with_estimate:099:enumerate_with_estimate E1 Training ----/8, starting\n"
     ]
    },
    {
     "name": "stdout",
     "output_type": "stream",
     "text": [
      "----- check -----\n",
      "input_g.size torch.Size([32, 3, 224, 224])\n",
      "label_g.size torch.Size([32, 2])\n",
      "probability_g.size torch.Size([32, 2])\n"
     ]
    },
    {
     "ename": "TypeError",
     "evalue": "can't assign a numpy.ndarray to a torch.FloatTensor",
     "output_type": "error",
     "traceback": [
      "\u001b[0;31m---------------------------------------------------------------------------\u001b[0m",
      "\u001b[0;31mTypeError\u001b[0m                                 Traceback (most recent call last)",
      "\u001b[1;32m/Users/inoueshinichi/Desktop/MyGithub/Wiki_AI/Report_TransferLearning.ipynb セル 9\u001b[0m in \u001b[0;36m<cell line: 4>\u001b[0;34m()\u001b[0m\n\u001b[1;32m      <a href='vscode-notebook-cell:/Users/inoueshinichi/Desktop/MyGithub/Wiki_AI/Report_TransferLearning.ipynb#X11sZmlsZQ%3D%3D?line=1'>2</a>\u001b[0m batch_size \u001b[39m=\u001b[39m \u001b[39m32\u001b[39m\n\u001b[1;32m      <a href='vscode-notebook-cell:/Users/inoueshinichi/Desktop/MyGithub/Wiki_AI/Report_TransferLearning.ipynb#X11sZmlsZQ%3D%3D?line=2'>3</a>\u001b[0m finetune_depth \u001b[39m=\u001b[39m \u001b[39m1\u001b[39m\n\u001b[0;32m----> <a href='vscode-notebook-cell:/Users/inoueshinichi/Desktop/MyGithub/Wiki_AI/Report_TransferLearning.ipynb#X11sZmlsZQ%3D%3D?line=3'>4</a>\u001b[0m run(\u001b[39m'\u001b[39;49m\u001b[39mTransferLearing.transfer_learning.TransferLearningApp\u001b[39;49m\u001b[39m'\u001b[39;49m, \n\u001b[1;32m      <a href='vscode-notebook-cell:/Users/inoueshinichi/Desktop/MyGithub/Wiki_AI/Report_TransferLearning.ipynb#X11sZmlsZQ%3D%3D?line=4'>5</a>\u001b[0m     \u001b[39mf\u001b[39;49m\u001b[39m\"\u001b[39;49m\u001b[39m--batch-size=\u001b[39;49m\u001b[39m{\u001b[39;49;00mbatch_size\u001b[39m}\u001b[39;49;00m\u001b[39m\"\u001b[39;49m, \n\u001b[1;32m      <a href='vscode-notebook-cell:/Users/inoueshinichi/Desktop/MyGithub/Wiki_AI/Report_TransferLearning.ipynb#X11sZmlsZQ%3D%3D?line=5'>6</a>\u001b[0m     \u001b[39mf\u001b[39;49m\u001b[39m\"\u001b[39;49m\u001b[39m--epochs=\u001b[39;49m\u001b[39m{\u001b[39;49;00mepochs\u001b[39m}\u001b[39;49;00m\u001b[39m\"\u001b[39;49m,\n\u001b[1;32m      <a href='vscode-notebook-cell:/Users/inoueshinichi/Desktop/MyGithub/Wiki_AI/Report_TransferLearning.ipynb#X11sZmlsZQ%3D%3D?line=6'>7</a>\u001b[0m     \u001b[39m\"\u001b[39;49m\u001b[39m--finetune=pretrained\u001b[39;49m\u001b[39m\"\u001b[39;49m,\n\u001b[1;32m      <a href='vscode-notebook-cell:/Users/inoueshinichi/Desktop/MyGithub/Wiki_AI/Report_TransferLearning.ipynb#X11sZmlsZQ%3D%3D?line=7'>8</a>\u001b[0m     \u001b[39mf\u001b[39;49m\u001b[39m\"\u001b[39;49m\u001b[39m--finetune-depth=\u001b[39;49m\u001b[39m{\u001b[39;49;00mfinetune_depth\u001b[39m}\u001b[39;49;00m\u001b[39m\"\u001b[39;49m\n\u001b[1;32m      <a href='vscode-notebook-cell:/Users/inoueshinichi/Desktop/MyGithub/Wiki_AI/Report_TransferLearning.ipynb#X11sZmlsZQ%3D%3D?line=8'>9</a>\u001b[0m     ),\n",
      "\u001b[1;32m/Users/inoueshinichi/Desktop/MyGithub/Wiki_AI/Report_TransferLearning.ipynb セル 9\u001b[0m in \u001b[0;36mrun\u001b[0;34m(app, *argv)\u001b[0m\n\u001b[1;32m     <a href='vscode-notebook-cell:/Users/inoueshinichi/Desktop/MyGithub/Wiki_AI/Report_TransferLearning.ipynb#X11sZmlsZQ%3D%3D?line=13'>14</a>\u001b[0m \u001b[39mprint\u001b[39m(\u001b[39m\"\u001b[39m\u001b[39m*app.rsplit(\u001b[39m\u001b[39m'\u001b[39m\u001b[39m.\u001b[39m\u001b[39m'\u001b[39m\u001b[39m, 1) : \u001b[39m\u001b[39m\"\u001b[39m, \u001b[39m*\u001b[39mapp\u001b[39m.\u001b[39mrsplit(\u001b[39m'\u001b[39m\u001b[39m.\u001b[39m\u001b[39m'\u001b[39m, \u001b[39m1\u001b[39m))\n\u001b[1;32m     <a href='vscode-notebook-cell:/Users/inoueshinichi/Desktop/MyGithub/Wiki_AI/Report_TransferLearning.ipynb#X11sZmlsZQ%3D%3D?line=15'>16</a>\u001b[0m app_cls \u001b[39m=\u001b[39m importstr(\u001b[39m*\u001b[39mapp\u001b[39m.\u001b[39mrsplit(\u001b[39m'\u001b[39m\u001b[39m.\u001b[39m\u001b[39m'\u001b[39m, \u001b[39m1\u001b[39m)) \u001b[39m# __import__を実行\u001b[39;00m\n\u001b[0;32m---> <a href='vscode-notebook-cell:/Users/inoueshinichi/Desktop/MyGithub/Wiki_AI/Report_TransferLearning.ipynb#X11sZmlsZQ%3D%3D?line=16'>17</a>\u001b[0m app_cls(argv)\u001b[39m.\u001b[39;49mmain()\n\u001b[1;32m     <a href='vscode-notebook-cell:/Users/inoueshinichi/Desktop/MyGithub/Wiki_AI/Report_TransferLearning.ipynb#X11sZmlsZQ%3D%3D?line=18'>19</a>\u001b[0m log\u001b[39m.\u001b[39minfo(\u001b[39m\"\u001b[39m\u001b[39mFinished: \u001b[39m\u001b[39m{}\u001b[39;00m\u001b[39m.(\u001b[39m\u001b[39m{!r}\u001b[39;00m\u001b[39m).main()\u001b[39m\u001b[39m\"\u001b[39m\u001b[39m.\u001b[39mformat(app, argv))\n",
      "File \u001b[0;32m~/Desktop/MyGithub/Wiki_AI/TransferLearing/transfer_learning.py:383\u001b[0m, in \u001b[0;36mTransferLearningApp.main\u001b[0;34m(self)\u001b[0m\n\u001b[1;32m    372\u001b[0m \u001b[39mfor\u001b[39;00m epoch_ndx \u001b[39min\u001b[39;00m \u001b[39mrange\u001b[39m(\u001b[39m1\u001b[39m, \u001b[39mself\u001b[39m\u001b[39m.\u001b[39mcli_args\u001b[39m.\u001b[39mepochs \u001b[39m+\u001b[39m \u001b[39m1\u001b[39m):\n\u001b[1;32m    374\u001b[0m     log\u001b[39m.\u001b[39minfo(\u001b[39m\"\u001b[39m\u001b[39mEpoch \u001b[39m\u001b[39m{}\u001b[39;00m\u001b[39m of \u001b[39m\u001b[39m{}\u001b[39;00m\u001b[39m, [trn]\u001b[39m\u001b[39m{}\u001b[39;00m\u001b[39m/[val]\u001b[39m\u001b[39m{}\u001b[39;00m\u001b[39m batches of size \u001b[39m\u001b[39m{}\u001b[39;00m\u001b[39m*\u001b[39m\u001b[39m{}\u001b[39;00m\u001b[39m\"\u001b[39m\u001b[39m.\u001b[39mformat(\n\u001b[1;32m    375\u001b[0m         epoch_ndx,\n\u001b[1;32m    376\u001b[0m         \u001b[39mself\u001b[39m\u001b[39m.\u001b[39mcli_args\u001b[39m.\u001b[39mepochs,\n\u001b[0;32m   (...)\u001b[0m\n\u001b[1;32m    380\u001b[0m         (torch\u001b[39m.\u001b[39mcuda\u001b[39m.\u001b[39mdevice_count() \u001b[39mif\u001b[39;00m \u001b[39mself\u001b[39m\u001b[39m.\u001b[39muse_cuda \u001b[39melse\u001b[39;00m \u001b[39m1\u001b[39m),\n\u001b[1;32m    381\u001b[0m     ))\n\u001b[0;32m--> 383\u001b[0m     trn_metrics_t \u001b[39m=\u001b[39m \u001b[39mself\u001b[39;49m\u001b[39m.\u001b[39;49mdo_training(epoch_ndx, trn_dl)\n\u001b[1;32m    384\u001b[0m     \u001b[39mself\u001b[39m\u001b[39m.\u001b[39mlog_metrics(epoch_ndx, \u001b[39m'\u001b[39m\u001b[39mtrn\u001b[39m\u001b[39m'\u001b[39m, trn_metrics_t)\n\u001b[1;32m    386\u001b[0m     \u001b[39mif\u001b[39;00m epoch_ndx \u001b[39m==\u001b[39m \u001b[39m1\u001b[39m \u001b[39mor\u001b[39;00m epoch_ndx \u001b[39m%\u001b[39m validation_cadence \u001b[39m==\u001b[39m \u001b[39m0\u001b[39m:\n",
      "File \u001b[0;32m~/Desktop/MyGithub/Wiki_AI/TransferLearing/transfer_learning.py:256\u001b[0m, in \u001b[0;36mTransferLearningApp.do_training\u001b[0;34m(self, epoch_ndx, trn_dl)\u001b[0m\n\u001b[1;32m    252\u001b[0m \u001b[39mfor\u001b[39;00m batch_ndx, batch_tup \u001b[39min\u001b[39;00m batch_iter:\n\u001b[1;32m    254\u001b[0m     \u001b[39mself\u001b[39m\u001b[39m.\u001b[39moptimizer\u001b[39m.\u001b[39mzero_grad()\n\u001b[0;32m--> 256\u001b[0m     loss_var \u001b[39m=\u001b[39m \u001b[39mself\u001b[39;49m\u001b[39m.\u001b[39;49mcompute_batch_loss(\n\u001b[1;32m    257\u001b[0m         batch_ndx,\n\u001b[1;32m    258\u001b[0m         batch_tup,\n\u001b[1;32m    259\u001b[0m         trn_dl\u001b[39m.\u001b[39;49mbatch_size,\n\u001b[1;32m    260\u001b[0m         trn_metrics_g,\n\u001b[1;32m    261\u001b[0m     )\n\u001b[1;32m    263\u001b[0m     \u001b[39m# Back Propagation\u001b[39;00m\n\u001b[1;32m    264\u001b[0m     loss_var\u001b[39m.\u001b[39mbackward()\n",
      "File \u001b[0;32m~/Desktop/MyGithub/Wiki_AI/TransferLearing/transfer_learning.py:305\u001b[0m, in \u001b[0;36mTransferLearningApp.compute_batch_loss\u001b[0;34m(self, batch_ndx, batch_tup, batch_size, metrics_g)\u001b[0m\n\u001b[1;32m    303\u001b[0m \u001b[39m\u001b[39m\u001b[39m\"\"\"勾配を必要とする指標がないのでデタッチして, 計算グラフから切り離す.\"\"\"\u001b[39;00m\n\u001b[1;32m    304\u001b[0m \u001b[39m# Label\u001b[39;00m\n\u001b[0;32m--> 305\u001b[0m metrics_g[METRICS_LABEL_NDX, start_ndx:end_ndx] \u001b[39m=\u001b[39m np\u001b[39m.\u001b[39mwhere(label_g[:,\u001b[39m0\u001b[39m]\u001b[39m.\u001b[39mdetach()\u001b[39m.\u001b[39mnumpy() \u001b[39m==\u001b[39m \u001b[39m0\u001b[39m, \n\u001b[1;32m    306\u001b[0m                                                            \u001b[39mself\u001b[39m\u001b[39m.\u001b[39mclasses_dict[\u001b[39m'\u001b[39m\u001b[39mants\u001b[39m\u001b[39m'\u001b[39m], \n\u001b[1;32m    307\u001b[0m                                                            \u001b[39mself\u001b[39m\u001b[39m.\u001b[39mclasses_dict[\u001b[39m'\u001b[39m\u001b[39mbees\u001b[39m\u001b[39m'\u001b[39m]) \u001b[39m# ants: 1, bees:2\u001b[39;00m\n\u001b[1;32m    308\u001b[0m \u001b[39m# Predict\u001b[39;00m\n\u001b[1;32m    309\u001b[0m metrics_g[METRICS_POS_PRED_NDX, start_ndx:end_ndx] \u001b[39m=\u001b[39m probability_g[:,\u001b[39m0\u001b[39m]\u001b[39m.\u001b[39mdetach()\u001b[39m.\u001b[39mnumpy()\n",
      "\u001b[0;31mTypeError\u001b[0m: can't assign a numpy.ndarray to a torch.FloatTensor"
     ]
    }
   ],
   "source": [
    "epochs = 2\n",
    "batch_size = 32\n",
    "finetune_depth = 1\n",
    "run('TransferLearing.transfer_learning.TransferLearningApp', \n",
    "    f\"--batch-size={batch_size}\", \n",
    "    f\"--epochs={epochs}\",\n",
    "    \"--finetune=pretrained\",\n",
    "    f\"--finetune-depth={finetune_depth}\"\n",
    "    ),"
   ]
  }
 ],
 "metadata": {
  "kernelspec": {
   "display_name": "Python 3",
   "language": "python",
   "name": "python3"
  },
  "language_info": {
   "codemirror_mode": {
    "name": "ipython",
    "version": 3
   },
   "file_extension": ".py",
   "mimetype": "text/x-python",
   "name": "python",
   "nbconvert_exporter": "python",
   "pygments_lexer": "ipython3",
   "version": "3.8.16"
  }
 },
 "nbformat": 4,
 "nbformat_minor": 2
}
