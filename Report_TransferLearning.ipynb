{
 "cells": [
  {
   "attachments": {},
   "cell_type": "markdown",
   "metadata": {},
   "source": [
    "# 転移学習"
   ]
  },
  {
   "attachments": {},
   "cell_type": "markdown",
   "metadata": {},
   "source": [
    "### いつもの設定"
   ]
  },
  {
   "cell_type": "code",
   "execution_count": 1,
   "metadata": {},
   "outputs": [],
   "source": [
    "from type_hint import *\n",
    "from import_str import importstr\n",
    "from log_conf import logging\n",
    "log = logging.getLogger('nb')\n",
    "\n",
    "# log.setLevel(logging.WARN)\n",
    "log.setLevel(logging.INFO)\n",
    "log.setLevel(logging.DEBUG)\n",
    "\n",
    "# running everything app\n",
    "def run(app, *argv):\n",
    "    argv = list(argv)\n",
    "    log.info('Running: {}({!r}).main()'.format(app, argv))\n",
    "    print(\"*app.rsplit('.', 1) : \", *app.rsplit('.', 1))\n",
    "\n",
    "    app_cls = importstr(*app.rsplit('.', 1)) # __import__を実行\n",
    "    app_cls(argv).main()\n",
    "\n",
    "    log.info(\"Finished: {}.({!r}).main()\".format(app, argv))"
   ]
  },
  {
   "attachments": {},
   "cell_type": "markdown",
   "metadata": {},
   "source": [
    "### 画像前処理動作を確認"
   ]
  },
  {
   "cell_type": "code",
   "execution_count": 2,
   "metadata": {},
   "outputs": [],
   "source": [
    "# run('TransferLearing.preprocess.PreprocessImageApp')"
   ]
  },
  {
   "attachments": {},
   "cell_type": "markdown",
   "metadata": {},
   "source": [
    "### 転移先のアリとハチを分類するためのデータセット"
   ]
  },
  {
   "cell_type": "code",
   "execution_count": 3,
   "metadata": {},
   "outputs": [],
   "source": [
    "# run('TransferLearing.ant_bee_dataset.HymenopteraDatasetApp')"
   ]
  },
  {
   "attachments": {},
   "cell_type": "markdown",
   "metadata": {},
   "source": [
    "### 転移学習(FineTune)による学習と検証"
   ]
  },
  {
   "cell_type": "code",
   "execution_count": 4,
   "metadata": {},
   "outputs": [
    {
     "name": "stderr",
     "output_type": "stream",
     "text": [
      "2023-06-23 07:44:09,692 INFO     pid:2817 nb:013:run Running: TransferLearing.transfer_learning.TransferLearningApp(['--batch-size=32', '--epochs=2', '--finetune=pretrained', '--finetune-depth=1']).main()\n"
     ]
    },
    {
     "name": "stdout",
     "output_type": "stream",
     "text": [
      "*app.rsplit('.', 1) :  TransferLearing.transfer_learning TransferLearningApp\n"
     ]
    },
    {
     "name": "stderr",
     "output_type": "stream",
     "text": [
      "/Users/inoueshinichi/opt/anaconda3/envs/Py38WorkEnv/lib/python3.8/site-packages/torchvision/models/_utils.py:208: UserWarning: The parameter 'pretrained' is deprecated since 0.13 and may be removed in the future, please use 'weights' instead.\n",
      "  warnings.warn(\n",
      "/Users/inoueshinichi/opt/anaconda3/envs/Py38WorkEnv/lib/python3.8/site-packages/torchvision/models/_utils.py:223: UserWarning: Arguments other than a weight enum or `None` for 'weights' are deprecated since 0.13 and may be removed in the future. The current behavior is equivalent to passing `weights=VGG16_Weights.IMAGENET1K_V1`. You can also use `weights=VGG16_Weights.DEFAULT` to get the most up-to-date weights.\n",
      "  warnings.warn(msg)\n",
      "2023-06-23 07:44:15,638 INFO     pid:2817 TransferLearing.transfer_learning:154:init_model finetuning from pretrained, blocks classifier\n",
      "2023-06-23 07:44:15,641 INFO     pid:2817 TransferLearing.transfer_learning:331:main Starting TransferLearningApp, Namespace(batch_size=32, comment='dwlpt', epochs=2, finetune='pretrained', finetune_depth=1, num_workers=4, save_modeldir='models', tb_logdir='runs', tb_prefix='hymenoptera')\n",
      "2023-06-23 07:44:15,642 INFO     pid:2817 TransferLearing.transfer_learning:342:main Epoch 1 of 2, [trn]8/[val]5 batches of size 32*1\n",
      "2023-06-23 07:44:15,643 WARNING  pid:2817 enum_with_estimate:099:enumerate_with_estimate E1 Training ----/8, starting\n"
     ]
    },
    {
     "name": "stdout",
     "output_type": "stream",
     "text": [
      "----- check -----\n",
      "input_g.size torch.Size([32, 3, 224, 224])\n",
      "label_g.size torch.Size([32, 2])\n",
      "probability_g.size torch.Size([32, 2])\n",
      "----- check -----\n",
      "input_g.size torch.Size([32, 3, 224, 224])\n",
      "label_g.size torch.Size([32, 2])\n",
      "probability_g.size torch.Size([32, 2])\n",
      "----- check -----\n",
      "input_g.size torch.Size([32, 3, 224, 224])\n",
      "label_g.size torch.Size([32, 2])\n",
      "probability_g.size torch.Size([32, 2])\n",
      "----- check -----\n",
      "input_g.size torch.Size([32, 3, 224, 224])\n",
      "label_g.size torch.Size([32, 2])\n",
      "probability_g.size torch.Size([32, 2])\n",
      "----- check -----\n",
      "input_g.size torch.Size([32, 3, 224, 224])\n",
      "label_g.size torch.Size([32, 2])\n",
      "probability_g.size torch.Size([32, 2])\n",
      "----- check -----\n",
      "input_g.size torch.Size([32, 3, 224, 224])\n",
      "label_g.size torch.Size([32, 2])\n",
      "probability_g.size torch.Size([32, 2])\n",
      "----- check -----\n",
      "input_g.size torch.Size([32, 3, 224, 224])\n",
      "label_g.size torch.Size([32, 2])\n",
      "probability_g.size torch.Size([32, 2])\n",
      "----- check -----\n",
      "input_g.size torch.Size([19, 3, 224, 224])\n",
      "label_g.size torch.Size([19, 2])\n",
      "probability_g.size torch.Size([19, 2])\n"
     ]
    },
    {
     "name": "stderr",
     "output_type": "stream",
     "text": [
      "2023-06-23 07:46:43,755 WARNING  pid:2817 enum_with_estimate:129:enumerate_with_estimate E1 Training ----/8, done at 2023-06-23 07:46:43\n",
      "2023-06-23 07:46:43,760 INFO     pid:2817 TransferLearing.transfer_learning:372:log_metrics E1 TransferLearningApp\n",
      "2023-06-23 07:46:43,763 INFO     pid:2817 TransferLearing.transfer_learning:395:log_metrics E1 trn      0.3432 loss, 0.0000 precision, 0.0000 recall, 0.0000 f1 score\n",
      "2023-06-23 07:46:43,764 INFO     pid:2817 TransferLearing.transfer_learning:406:log_metrics E1 trn_all  0.3432 loss,   0.0% tp,   0.0% fn,       0.0% fp\n",
      "2023-06-23 07:46:43,779 WARNING  pid:2817 enum_with_estimate:099:enumerate_with_estimate E1 Validation ----/5, starting\n"
     ]
    },
    {
     "name": "stdout",
     "output_type": "stream",
     "text": [
      "----- check -----\n",
      "input_g.size torch.Size([32, 3, 224, 224])\n",
      "label_g.size torch.Size([32, 2])\n",
      "probability_g.size torch.Size([32, 2])\n",
      "----- check -----\n",
      "input_g.size torch.Size([32, 3, 224, 224])\n",
      "label_g.size torch.Size([32, 2])\n",
      "probability_g.size torch.Size([32, 2])\n",
      "----- check -----\n",
      "input_g.size torch.Size([32, 3, 224, 224])\n",
      "label_g.size torch.Size([32, 2])\n",
      "probability_g.size torch.Size([32, 2])\n",
      "----- check -----\n",
      "input_g.size torch.Size([32, 3, 224, 224])\n",
      "label_g.size torch.Size([32, 2])\n",
      "probability_g.size torch.Size([32, 2])\n",
      "----- check -----\n",
      "input_g.size torch.Size([25, 3, 224, 224])\n",
      "label_g.size torch.Size([25, 2])\n",
      "probability_g.size torch.Size([25, 2])\n"
     ]
    },
    {
     "name": "stderr",
     "output_type": "stream",
     "text": [
      "2023-06-23 07:48:23,879 WARNING  pid:2817 enum_with_estimate:129:enumerate_with_estimate E1 Validation ----/5, done at 2023-06-23 07:48:23\n",
      "2023-06-23 07:48:23,882 INFO     pid:2817 TransferLearing.transfer_learning:372:log_metrics E1 TransferLearningApp\n",
      "2023-06-23 07:48:23,883 INFO     pid:2817 TransferLearing.transfer_learning:395:log_metrics E1 val      0.1250 loss, 0.0000 precision, 0.0000 recall, 0.0000 f1 score\n",
      "2023-06-23 07:48:23,884 INFO     pid:2817 TransferLearing.transfer_learning:406:log_metrics E1 val_all  0.1250 loss,   0.0% tp,   0.0% fn,       0.0% fp\n",
      "2023-06-23 07:48:27,109 INFO     pid:2817 TransferLearing.transfer_learning:461:save_model Saved model params to /Users/inoueshinichi/Desktop/MyGithub/Wiki_AI/TransferLearing/models/hymenoptera/cls_2023-06-23_07.44.14_dwlpt.243.state\n",
      "2023-06-23 07:48:28,217 INFO     pid:2817 TransferLearing.transfer_learning:472:save_model Saved model params to /Users/inoueshinichi/Desktop/MyGithub/Wiki_AI/TransferLearing/models/hymenoptera/cls_2023-06-23_07.44.14_dwlpt.best.state\n",
      "2023-06-23 07:48:30,283 INFO     pid:2817 TransferLearing.transfer_learning:475:save_model SHA1: 22f90e5c0f42ac47cb9e600c17aa5b938be76526\n",
      "2023-06-23 07:48:30,285 INFO     pid:2817 TransferLearing.transfer_learning:342:main Epoch 2 of 2, [trn]8/[val]5 batches of size 32*1\n",
      "2023-06-23 07:48:30,286 WARNING  pid:2817 enum_with_estimate:099:enumerate_with_estimate E2 Training ----/8, starting\n"
     ]
    },
    {
     "name": "stdout",
     "output_type": "stream",
     "text": [
      "----- check -----\n",
      "input_g.size torch.Size([32, 3, 224, 224])\n",
      "label_g.size torch.Size([32, 2])\n",
      "probability_g.size torch.Size([32, 2])\n",
      "----- check -----\n",
      "input_g.size torch.Size([32, 3, 224, 224])\n",
      "label_g.size torch.Size([32, 2])\n",
      "probability_g.size torch.Size([32, 2])\n",
      "----- check -----\n",
      "input_g.size torch.Size([32, 3, 224, 224])\n",
      "label_g.size torch.Size([32, 2])\n",
      "probability_g.size torch.Size([32, 2])\n",
      "----- check -----\n",
      "input_g.size torch.Size([32, 3, 224, 224])\n",
      "label_g.size torch.Size([32, 2])\n",
      "probability_g.size torch.Size([32, 2])\n",
      "----- check -----\n",
      "input_g.size torch.Size([32, 3, 224, 224])\n",
      "label_g.size torch.Size([32, 2])\n",
      "probability_g.size torch.Size([32, 2])\n",
      "----- check -----\n",
      "input_g.size torch.Size([32, 3, 224, 224])\n",
      "label_g.size torch.Size([32, 2])\n",
      "probability_g.size torch.Size([32, 2])\n",
      "----- check -----\n",
      "input_g.size torch.Size([32, 3, 224, 224])\n",
      "label_g.size torch.Size([32, 2])\n",
      "probability_g.size torch.Size([32, 2])\n",
      "----- check -----\n",
      "input_g.size torch.Size([19, 3, 224, 224])\n",
      "label_g.size torch.Size([19, 2])\n",
      "probability_g.size torch.Size([19, 2])\n"
     ]
    },
    {
     "name": "stderr",
     "output_type": "stream",
     "text": [
      "2023-06-23 07:50:54,092 WARNING  pid:2817 enum_with_estimate:129:enumerate_with_estimate E2 Training ----/8, done at 2023-06-23 07:50:54\n",
      "2023-06-23 07:50:54,095 INFO     pid:2817 TransferLearing.transfer_learning:372:log_metrics E2 TransferLearningApp\n",
      "2023-06-23 07:50:54,097 INFO     pid:2817 TransferLearing.transfer_learning:395:log_metrics E2 trn      0.0986 loss, 0.0000 precision, 0.0000 recall, 0.0000 f1 score\n",
      "2023-06-23 07:50:54,098 INFO     pid:2817 TransferLearing.transfer_learning:406:log_metrics E2 trn_all  0.0986 loss,   0.0% tp,   0.0% fn,       0.0% fp\n",
      "2023-06-23 07:50:54,100 WARNING  pid:2817 enum_with_estimate:099:enumerate_with_estimate E2 Validation ----/5, starting\n"
     ]
    },
    {
     "name": "stdout",
     "output_type": "stream",
     "text": [
      "----- check -----\n",
      "input_g.size torch.Size([32, 3, 224, 224])\n",
      "label_g.size torch.Size([32, 2])\n",
      "probability_g.size torch.Size([32, 2])\n",
      "----- check -----\n",
      "input_g.size torch.Size([32, 3, 224, 224])\n",
      "label_g.size torch.Size([32, 2])\n",
      "probability_g.size torch.Size([32, 2])\n",
      "----- check -----\n",
      "input_g.size torch.Size([32, 3, 224, 224])\n",
      "label_g.size torch.Size([32, 2])\n",
      "probability_g.size torch.Size([32, 2])\n",
      "----- check -----\n",
      "input_g.size torch.Size([32, 3, 224, 224])\n",
      "label_g.size torch.Size([32, 2])\n",
      "probability_g.size torch.Size([32, 2])\n",
      "----- check -----\n",
      "input_g.size torch.Size([25, 3, 224, 224])\n",
      "label_g.size torch.Size([25, 2])\n",
      "probability_g.size torch.Size([25, 2])\n"
     ]
    },
    {
     "name": "stderr",
     "output_type": "stream",
     "text": [
      "2023-06-23 07:52:29,438 WARNING  pid:2817 enum_with_estimate:129:enumerate_with_estimate E2 Validation ----/5, done at 2023-06-23 07:52:29\n",
      "2023-06-23 07:52:29,442 INFO     pid:2817 TransferLearing.transfer_learning:372:log_metrics E2 TransferLearningApp\n",
      "2023-06-23 07:52:29,444 INFO     pid:2817 TransferLearing.transfer_learning:395:log_metrics E2 val      0.1313 loss, 0.0000 precision, 0.0000 recall, 0.0000 f1 score\n",
      "2023-06-23 07:52:29,446 INFO     pid:2817 TransferLearing.transfer_learning:406:log_metrics E2 val_all  0.1313 loss,   0.0% tp,   0.0% fn,       0.0% fp\n",
      "2023-06-23 07:52:32,368 INFO     pid:2817 TransferLearing.transfer_learning:461:save_model Saved model params to /Users/inoueshinichi/Desktop/MyGithub/Wiki_AI/TransferLearing/models/hymenoptera/cls_2023-06-23_07.44.14_dwlpt.486.state\n",
      "2023-06-23 07:52:33,210 INFO     pid:2817 TransferLearing.transfer_learning:472:save_model Saved model params to /Users/inoueshinichi/Desktop/MyGithub/Wiki_AI/TransferLearing/models/hymenoptera/cls_2023-06-23_07.44.14_dwlpt.best.state\n",
      "2023-06-23 07:52:34,964 INFO     pid:2817 TransferLearing.transfer_learning:475:save_model SHA1: 964ea6db4dcab3e174238baa4db056d0244752cc\n"
     ]
    },
    {
     "ename": "AttributeError",
     "evalue": "'TransferLearningApp' object has no attribute 'val_wirter'",
     "output_type": "error",
     "traceback": [
      "\u001b[0;31m---------------------------------------------------------------------------\u001b[0m",
      "\u001b[0;31mAttributeError\u001b[0m                            Traceback (most recent call last)",
      "\u001b[1;32m/Users/inoueshinichi/Desktop/MyGithub/Wiki_AI/Report_TransferLearning.ipynb セル 9\u001b[0m in \u001b[0;36m<cell line: 4>\u001b[0;34m()\u001b[0m\n\u001b[1;32m      <a href='vscode-notebook-cell:/Users/inoueshinichi/Desktop/MyGithub/Wiki_AI/Report_TransferLearning.ipynb#X11sZmlsZQ%3D%3D?line=1'>2</a>\u001b[0m batch_size \u001b[39m=\u001b[39m \u001b[39m32\u001b[39m\n\u001b[1;32m      <a href='vscode-notebook-cell:/Users/inoueshinichi/Desktop/MyGithub/Wiki_AI/Report_TransferLearning.ipynb#X11sZmlsZQ%3D%3D?line=2'>3</a>\u001b[0m finetune_depth \u001b[39m=\u001b[39m \u001b[39m1\u001b[39m\n\u001b[0;32m----> <a href='vscode-notebook-cell:/Users/inoueshinichi/Desktop/MyGithub/Wiki_AI/Report_TransferLearning.ipynb#X11sZmlsZQ%3D%3D?line=3'>4</a>\u001b[0m run(\u001b[39m'\u001b[39;49m\u001b[39mTransferLearing.transfer_learning.TransferLearningApp\u001b[39;49m\u001b[39m'\u001b[39;49m, \n\u001b[1;32m      <a href='vscode-notebook-cell:/Users/inoueshinichi/Desktop/MyGithub/Wiki_AI/Report_TransferLearning.ipynb#X11sZmlsZQ%3D%3D?line=4'>5</a>\u001b[0m     \u001b[39mf\u001b[39;49m\u001b[39m\"\u001b[39;49m\u001b[39m--batch-size=\u001b[39;49m\u001b[39m{\u001b[39;49;00mbatch_size\u001b[39m}\u001b[39;49;00m\u001b[39m\"\u001b[39;49m, \n\u001b[1;32m      <a href='vscode-notebook-cell:/Users/inoueshinichi/Desktop/MyGithub/Wiki_AI/Report_TransferLearning.ipynb#X11sZmlsZQ%3D%3D?line=5'>6</a>\u001b[0m     \u001b[39mf\u001b[39;49m\u001b[39m\"\u001b[39;49m\u001b[39m--epochs=\u001b[39;49m\u001b[39m{\u001b[39;49;00mepochs\u001b[39m}\u001b[39;49;00m\u001b[39m\"\u001b[39;49m,\n\u001b[1;32m      <a href='vscode-notebook-cell:/Users/inoueshinichi/Desktop/MyGithub/Wiki_AI/Report_TransferLearning.ipynb#X11sZmlsZQ%3D%3D?line=6'>7</a>\u001b[0m     \u001b[39m\"\u001b[39;49m\u001b[39m--finetune=pretrained\u001b[39;49m\u001b[39m\"\u001b[39;49m,\n\u001b[1;32m      <a href='vscode-notebook-cell:/Users/inoueshinichi/Desktop/MyGithub/Wiki_AI/Report_TransferLearning.ipynb#X11sZmlsZQ%3D%3D?line=7'>8</a>\u001b[0m     \u001b[39mf\u001b[39;49m\u001b[39m\"\u001b[39;49m\u001b[39m--finetune-depth=\u001b[39;49m\u001b[39m{\u001b[39;49;00mfinetune_depth\u001b[39m}\u001b[39;49;00m\u001b[39m\"\u001b[39;49m\n\u001b[1;32m      <a href='vscode-notebook-cell:/Users/inoueshinichi/Desktop/MyGithub/Wiki_AI/Report_TransferLearning.ipynb#X11sZmlsZQ%3D%3D?line=8'>9</a>\u001b[0m     ),\n",
      "\u001b[1;32m/Users/inoueshinichi/Desktop/MyGithub/Wiki_AI/Report_TransferLearning.ipynb セル 9\u001b[0m in \u001b[0;36mrun\u001b[0;34m(app, *argv)\u001b[0m\n\u001b[1;32m     <a href='vscode-notebook-cell:/Users/inoueshinichi/Desktop/MyGithub/Wiki_AI/Report_TransferLearning.ipynb#X11sZmlsZQ%3D%3D?line=13'>14</a>\u001b[0m \u001b[39mprint\u001b[39m(\u001b[39m\"\u001b[39m\u001b[39m*app.rsplit(\u001b[39m\u001b[39m'\u001b[39m\u001b[39m.\u001b[39m\u001b[39m'\u001b[39m\u001b[39m, 1) : \u001b[39m\u001b[39m\"\u001b[39m, \u001b[39m*\u001b[39mapp\u001b[39m.\u001b[39mrsplit(\u001b[39m'\u001b[39m\u001b[39m.\u001b[39m\u001b[39m'\u001b[39m, \u001b[39m1\u001b[39m))\n\u001b[1;32m     <a href='vscode-notebook-cell:/Users/inoueshinichi/Desktop/MyGithub/Wiki_AI/Report_TransferLearning.ipynb#X11sZmlsZQ%3D%3D?line=15'>16</a>\u001b[0m app_cls \u001b[39m=\u001b[39m importstr(\u001b[39m*\u001b[39mapp\u001b[39m.\u001b[39mrsplit(\u001b[39m'\u001b[39m\u001b[39m.\u001b[39m\u001b[39m'\u001b[39m, \u001b[39m1\u001b[39m)) \u001b[39m# __import__を実行\u001b[39;00m\n\u001b[0;32m---> <a href='vscode-notebook-cell:/Users/inoueshinichi/Desktop/MyGithub/Wiki_AI/Report_TransferLearning.ipynb#X11sZmlsZQ%3D%3D?line=16'>17</a>\u001b[0m app_cls(argv)\u001b[39m.\u001b[39;49mmain()\n\u001b[1;32m     <a href='vscode-notebook-cell:/Users/inoueshinichi/Desktop/MyGithub/Wiki_AI/Report_TransferLearning.ipynb#X11sZmlsZQ%3D%3D?line=18'>19</a>\u001b[0m log\u001b[39m.\u001b[39minfo(\u001b[39m\"\u001b[39m\u001b[39mFinished: \u001b[39m\u001b[39m{}\u001b[39;00m\u001b[39m.(\u001b[39m\u001b[39m{!r}\u001b[39;00m\u001b[39m).main()\u001b[39m\u001b[39m\"\u001b[39m\u001b[39m.\u001b[39mformat(app, argv))\n",
      "File \u001b[0;32m~/Desktop/MyGithub/Wiki_AI/TransferLearing/transfer_learning.py:364\u001b[0m, in \u001b[0;36mTransferLearningApp.main\u001b[0;34m(self)\u001b[0m\n\u001b[1;32m    362\u001b[0m \u001b[39mif\u001b[39;00m \u001b[39mhasattr\u001b[39m(\u001b[39mself\u001b[39m, \u001b[39m'\u001b[39m\u001b[39mtrn_writer\u001b[39m\u001b[39m'\u001b[39m):\n\u001b[1;32m    363\u001b[0m     \u001b[39mself\u001b[39m\u001b[39m.\u001b[39mtrn_writer\u001b[39m.\u001b[39mclose()\n\u001b[0;32m--> 364\u001b[0m     \u001b[39mself\u001b[39;49m\u001b[39m.\u001b[39;49mval_wirter\u001b[39m.\u001b[39mclose()\n",
      "\u001b[0;31mAttributeError\u001b[0m: 'TransferLearningApp' object has no attribute 'val_wirter'"
     ]
    }
   ],
   "source": [
    "epochs = 2\n",
    "batch_size = 32\n",
    "finetune_depth = 1\n",
    "run('TransferLearing.transfer_learning.TransferLearningApp', \n",
    "    f\"--batch-size={batch_size}\", \n",
    "    f\"--epochs={epochs}\",\n",
    "    \"--finetune=pretrained\",\n",
    "    f\"--finetune-depth={finetune_depth}\"\n",
    "    ),"
   ]
  }
 ],
 "metadata": {
  "kernelspec": {
   "display_name": "Python 3",
   "language": "python",
   "name": "python3"
  },
  "language_info": {
   "codemirror_mode": {
    "name": "ipython",
    "version": 3
   },
   "file_extension": ".py",
   "mimetype": "text/x-python",
   "name": "python",
   "nbconvert_exporter": "python",
   "pygments_lexer": "ipython3",
   "version": "3.8.16"
  }
 },
 "nbformat": 4,
 "nbformat_minor": 2
}
