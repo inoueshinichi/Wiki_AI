{
 "cells": [
  {
   "cell_type": "markdown",
   "metadata": {},
   "source": [
    "# Negative Sampling for unbalance classes\n",
    "+ 多値分類を二値分類に近似する\n",
    "+ 多値分類時に使用するSoftmax計算の計算コストを低減する"
   ]
  },
  {
   "cell_type": "code",
   "execution_count": 9,
   "metadata": {},
   "outputs": [],
   "source": [
    "import numpy as np"
   ]
  },
  {
   "cell_type": "markdown",
   "metadata": {},
   "source": [
    "# Embedding\n",
    "+ 単語の分散表現を保持＆抽出"
   ]
  },
  {
   "cell_type": "markdown",
   "metadata": {},
   "source": [
    "``` 単語の分散表現(W,D=3)\n",
    "forward   W\n",
    "       |◯◯◯|\n",
    "       |◯◯◯|\n",
    "idx -> |◯◯◯| -> |◯◯◯|\n",
    "       |◯◯◯|\n",
    "       |◯◯◯|\n",
    "backward  dW\n",
    "       |◯◯◯|\n",
    "       |◯◯◯| <- |●●●| idx\n",
    "       |◯◯◯|\n",
    "       |◯◯◯|\n",
    "       |◯◯◯|\n",
    "```"
   ]
  },
  {
   "cell_type": "code",
   "execution_count": 3,
   "metadata": {},
   "outputs": [],
   "source": [
    "class Embedding:\n",
    "    def __init__(self, w: np.ndarray):\n",
    "        self.params = [w]\n",
    "        self.grads = [np.zeros_like(w)]\n",
    "        self.idx = None\n",
    "    \n",
    "    def forward(self, idx: int):\n",
    "        w, = self.params\n",
    "        self.idx = idx\n",
    "        out = w[self.idx]\n",
    "        return out\n",
    "    \n",
    "    def backward(self, dout):\n",
    "        dw = self.grads\n",
    "        dw[...] = 0 # dwの中身をすべて0. torch.zero_grad()と同じ\n",
    "        for i, word_id in enumerate(self.idx):\n",
    "            dw[word_id]+= dout[i]\n",
    "        return None"
   ]
  },
  {
   "cell_type": "markdown",
   "metadata": {},
   "source": [
    "## EmbeddingDot\n",
    "+ 単語の分散表現を抽出して内積"
   ]
  },
  {
   "cell_type": "code",
   "execution_count": 4,
   "metadata": {},
   "outputs": [],
   "source": [
    "class EmbeddingDot:\n",
    "    def __init__(self, w: np.ndarray):\n",
    "        self.embed = Embedding(w)\n",
    "        self.params = self.embed\n",
    "        self.grads = self.embed.grads\n",
    "        self.cache = None\n",
    "    \n",
    "    def forward(self, h: np.ndarray, idx) -> np.ndarray:\n",
    "        target_w: np.ndarray = self.embed.forward(idx)\n",
    "        out = np.sum(target_w * h, axis=1) # 内積 -> スコア\n",
    "        self.cache = (h, target_w)\n",
    "        return out\n",
    "    \n",
    "    def backward(self, dout: np.ndarray):\n",
    "        h, target_w = self.cache\n",
    "        dout = dout.reshape(dout.shape[0], 1)\n",
    "        d_target_w = dout * h\n",
    "        self.embed.backward(d_target_w)\n",
    "        dh = dout\n",
    "        return dh"
   ]
  },
  {
   "cell_type": "markdown",
   "metadata": {},
   "source": [
    "# UnigramSampler\n",
    "+ コーパスから＊＊に基づいてサンプリング"
   ]
  },
  {
   "cell_type": "code",
   "execution_count": 13,
   "metadata": {},
   "outputs": [],
   "source": [
    "import collections\n",
    "\n",
    "class UnigramSampler:\n",
    "    def __init__(self, corpus: list, power: float, sample_size: int):\n",
    "        self.sample_size = sample_size\n",
    "        self.vocab_size = None # 単語数\n",
    "        self.word_p = None # 確率分布\n",
    "        # 単語の出現回数を取得\n",
    "        counts = collections.Counter()\n",
    "        for word_id in corpus:\n",
    "            counts[word_id] += 1 # 昇順(0,1,2,...)に頻度が格納される\n",
    "        self.vocab_size = len(counts)\n",
    "        self.word_p = np.zeros(self.vocab_size)\n",
    "        # 確率分布(ターゲットを含む)\n",
    "        self.word_p = np.power(self.word_p, power)\n",
    "        self.word_p /= np.sum(self.word_p)\n",
    "\n",
    "    def get_negative_sample(self, target):\n",
    "        batch_size = target.shape[0]\n",
    "        negative_sample = np.zeros((batch_size, self.sample_size), dtype=np.int32)\n",
    "        for i in range(batch_size):\n",
    "            p = np.copy(self.word_p)\n",
    "            target_idx = target[i]\n",
    "            p[target_idx] = 0 # ターゲット(正例)を省いた確率分布を作成\n",
    "            p /= np.sum(p)\n",
    "            # サンプリング\n",
    "            negative_sample = np.random.choice(p, \n",
    "                                               size=(batch_size, self.sample_size),\n",
    "                                               replace=False, # 重複なし\n",
    "                                               p=p)\n",
    "        return negative_sample"
   ]
  },
  {
   "cell_type": "markdown",
   "metadata": {},
   "source": [
    "# SigmoidWithLoss"
   ]
  },
  {
   "cell_type": "code",
   "execution_count": 16,
   "metadata": {},
   "outputs": [],
   "source": [
    "class SigmoidWithLoss:\n",
    "    def __init__(self):\n",
    "        self.params = []\n",
    "        self.grads = []\n",
    "        self.loss = None\n",
    "        self.y = None # sigmoidの出力\n",
    "        self.t = None # 教師label\n",
    "\n",
    "    def forward(self, x: np.ndarray, t: np.ndarray):\n",
    "        self.t = t # (N, 1)\n",
    "        self.y = 1 / (1 + np.exp(-x))\n",
    "        # cross entroy loss\n",
    "        self.loss = -self.t * np.log(self.y) + (1 - self.t) * np.log(1 - self.y)\n",
    "\n",
    "        return self.loss\n",
    "    \n",
    "    def backward(self, dout = 1):\n",
    "        batch_size = self.t.shape[0]\n",
    "        dx = (self.y - self.t) * dout / batch_size\n",
    "        return dx"
   ]
  },
  {
   "cell_type": "code",
   "execution_count": 17,
   "metadata": {},
   "outputs": [],
   "source": [
    "import numpy as np\n",
    "\n",
    "\n",
    "class NegativeSamplingLoss:\n",
    "    def __init__(self, w: np.ndarray, corpus: list, power = 0.75, sample_size=5):\n",
    "        self.sample_size = sample_size # 負例数1\n",
    "        self.sampler = UnigramSampler(corpus, power, sample_size)\n",
    "        self.loss_layers = [SigmoidWithLoss() for _ in range(sample_size + 1)]\n",
    "        self.embed_dot_layers = [EmbeddingDot(w) for _ in range(sample_size + 1)]\n",
    "        self.params, self.grads = [], []\n",
    "\n",
    "        for layer in self.embed_dot_layers:\n",
    "            self.params += layer.params\n",
    "            self.grads += layer.grads\n",
    "        \n",
    "    def forward(self, h: np.ndarray, target: np.ndarray):\n",
    "        batch_size = target.shape[0]\n",
    "        # ネガティブサンプリング\n",
    "        negative_samples = self.sampler.get_negative_sample(target)\n",
    "\n",
    "        # 正例(0)\n",
    "        score = self.embed_dot_layers[0].forward(h, target)\n",
    "        correct_list = np.ones(batch_size, dtype=np.int32) # すべて1のベクトル\n",
    "        loss = self.loss_layers[0].forward(score, correct_list)\n",
    "\n",
    "        # 負例(1)\n",
    "        negative_label = np.zeros(batch_size, dtype=np.int32)\n",
    "        for i in range(self.sample_size):\n",
    "            negative_target = negative_samples[:, i]\n",
    "            score = self.embed_dot_layers[i + 1].forward(h, negative_target)\n",
    "            loss += self.loss_layers[i + 1].forward(score, negative_label)\n",
    "        return loss\n",
    "    \n",
    "    def backward(self, dout=1):\n",
    "        dh = 0 # 準伝搬でRepeatしていた各コピー\n",
    "        for l0, l1 in zip(self.loss_layers, self.embed_dot_layers):\n",
    "            dscore = l0.backward(dout)\n",
    "            dh += l1.backward(dscore)\n",
    "        return dh    "
   ]
  },
  {
   "cell_type": "markdown",
   "metadata": {},
   "source": [
    "## EmbeddingDotレイヤ\n",
    "```                                        \n",
    "          ----------------                 ---------\n",
    "say(1) -> | EmbeddingDot |    Yes/No (1) ->|       |            \n",
    "          | Layer        | --------------->| Sigmod| -> Loss\n",
    "h(1,D) -> |------------- |      t - y      | with  |\n",
    "          |    W_out     |                 | Loss  |\n",
    "          ----------------                 ---------\n",
    "```"
   ]
  },
  {
   "cell_type": "markdown",
   "metadata": {},
   "source": [
    "```\n",
    "h ------------             ----------------                 ---------\n",
    "    |      | 正例say(1) -> | EmbeddingDot |    Yes/No (1) ->|       |            \n",
    "    |      |               | Layer        | --------------->| Sigmod| -> Loss (+)\n",
    "    |      |---->h(1,D) -> |------------- |      t - y      | with  |\n",
    "    |                      |    W_out     |                 | Loss  |\n",
    "    |                      ----------------                 ---------\n",
    "    |\n",
    "    |                      ----------------                 ---------\n",
    "    |     負例 hello(0) -> | EmbeddingDot |    Yes/No (1) ->|       |            \n",
    "    |                      | Layer        | --------------->| Sigmod| -> Loss (+)\n",
    "    |----------->h(1,D) -> |------------- |      t - y      | with  |\n",
    "    |                      |    W_out     |                 | Loss  |\n",
    "    |                      ----------------                 ---------\n",
    "    ・・・・\n",
    "```"
   ]
  },
  {
   "cell_type": "markdown",
   "metadata": {},
   "source": [
    "## Negative Samplingのサンプリング手法\n",
    "＋コーパスの確率分布に従ってサンプリング\n",
    "+ e.g. p = [0.5, 0.1, 0.05, 0.2, 0.05, 0.1] (sum=1)\n",
    "+ `np.random.choice(words, p=p, size=2)`\n",
    "\n",
    "### 確率の低い単語のサンプリングを救済する方法\n",
    "+ すべての確率に0.75乗する\n",
    "```\n",
    "P'(w_i) = P(w_i)^0.75 / sum(P(w_i)^0.75)\n",
    "```"
   ]
  },
  {
   "cell_type": "code",
   "execution_count": null,
   "metadata": {},
   "outputs": [],
   "source": []
  }
 ],
 "metadata": {
  "kernelspec": {
   "display_name": "Python 3",
   "language": "python",
   "name": "python3"
  },
  "language_info": {
   "codemirror_mode": {
    "name": "ipython",
    "version": 3
   },
   "file_extension": ".py",
   "mimetype": "text/x-python",
   "name": "python",
   "nbconvert_exporter": "python",
   "pygments_lexer": "ipython3",
   "version": "3.11.9"
  }
 },
 "nbformat": 4,
 "nbformat_minor": 2
}
